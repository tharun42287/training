{
 "cells": [
  {
   "cell_type": "markdown",
   "id": "0533f89d-4cb6-43e6-ae53-86cef9f2523a",
   "metadata": {},
   "source": [
    "##if condition1:\n",
    "    ##task1 block of code\n",
    "##elif condition2:\n",
    "    ##task2 block of code\n",
    "##elif condition3:\n",
    "    ##task3 block of code\n",
    "##else:\n",
    "    ##task4 block of code"
   ]
  },
  {
   "cell_type": "code",
   "execution_count": 1,
   "id": "567b5ab7-3b34-4193-981c-abfb0950fc0a",
   "metadata": {},
   "outputs": [
    {
     "name": "stdout",
     "output_type": "stream",
     "text": [
      "Odd\n"
     ]
    }
   ],
   "source": [
    "x = 11\n",
    "if x % 2 == 0:\n",
    "    print(\"Even\")\n",
    "else:\n",
    "    print(\"Odd\")"
   ]
  },
  {
   "cell_type": "code",
   "execution_count": 6,
   "id": "bd3decc1-f6bc-4705-91c1-ed5743d5ba44",
   "metadata": {},
   "outputs": [
    {
     "data": {
      "text/plain": [
       "'India'"
      ]
     },
     "execution_count": 6,
     "metadata": {},
     "output_type": "execute_result"
    }
   ],
   "source": [
    "k = 'India'\n",
    "k"
   ]
  },
  {
   "cell_type": "code",
   "execution_count": 25,
   "id": "1800a460-0768-4c05-954c-8b111a9ac236",
   "metadata": {},
   "outputs": [
    {
     "data": {
      "text/plain": [
       "True"
      ]
     },
     "execution_count": 25,
     "metadata": {},
     "output_type": "execute_result"
    }
   ],
   "source": [
    "##isalpha() is a function that shows whether the string contains only alphabets or not\n",
    "k.isalpha()"
   ]
  },
  {
   "cell_type": "code",
   "execution_count": 29,
   "id": "13ee1876-b28c-4cfe-a82e-930c7741c2c7",
   "metadata": {},
   "outputs": [],
   "source": [
    "name = 'Kruthika sai sree2905'"
   ]
  },
  {
   "cell_type": "code",
   "execution_count": 31,
   "id": "86346ca6-676c-49f6-938e-a954f831a561",
   "metadata": {},
   "outputs": [
    {
     "name": "stdout",
     "output_type": "stream",
     "text": [
      "name should not contain digits and symbols\n"
     ]
    }
   ],
   "source": [
    "if name.isalpha()==True:\n",
    "    print('accept')\n",
    "else:\n",
    "    print('name should not contain digits and symbols')"
   ]
  },
  {
   "cell_type": "code",
   "execution_count": 20,
   "id": "3d4f7e01-5101-4170-acf5-f57d56463fbe",
   "metadata": {},
   "outputs": [
    {
     "name": "stdout",
     "output_type": "stream",
     "text": [
      "accept\n"
     ]
    }
   ],
   "source": [
    "a = 'Kruthika'\n",
    "if a.isalpha()==True:\n",
    "    print('accept')\n",
    "else:\n",
    "    print('name should not contain digits and symbols')"
   ]
  },
  {
   "cell_type": "code",
   "execution_count": 23,
   "id": "ba3e4774-09c6-4e20-b016-c23db6c875b2",
   "metadata": {},
   "outputs": [
    {
     "data": {
      "text/plain": [
       "'Kruthika'"
      ]
     },
     "execution_count": 23,
     "metadata": {},
     "output_type": "execute_result"
    }
   ],
   "source": [
    "a"
   ]
  },
  {
   "cell_type": "code",
   "execution_count": 33,
   "id": "c7338a0b-393f-47d4-be9a-c2c119e8b880",
   "metadata": {},
   "outputs": [
    {
     "data": {
      "text/plain": [
       "'Kruthika sai sree2905'"
      ]
     },
     "execution_count": 33,
     "metadata": {},
     "output_type": "execute_result"
    }
   ],
   "source": [
    "name"
   ]
  },
  {
   "cell_type": "code",
   "execution_count": 35,
   "id": "3563654b-eb18-443a-950a-aa4b96fd5190",
   "metadata": {},
   "outputs": [
    {
     "data": {
      "text/plain": [
       "'kruthika'"
      ]
     },
     "execution_count": 35,
     "metadata": {},
     "output_type": "execute_result"
    }
   ],
   "source": [
    "a.lower()"
   ]
  },
  {
   "cell_type": "code",
   "execution_count": 37,
   "id": "d4f2dfaf-a326-432a-9195-d6f446dccc20",
   "metadata": {},
   "outputs": [
    {
     "data": {
      "text/plain": [
       "'KRUTHIKA'"
      ]
     },
     "execution_count": 37,
     "metadata": {},
     "output_type": "execute_result"
    }
   ],
   "source": [
    "a.upper()"
   ]
  },
  {
   "cell_type": "code",
   "execution_count": 47,
   "id": "45fb8cfd-1c5f-406c-ac56-8cb08529805f",
   "metadata": {},
   "outputs": [
    {
     "data": {
      "text/plain": [
       "'Telangana'"
      ]
     },
     "execution_count": 47,
     "metadata": {},
     "output_type": "execute_result"
    }
   ],
   "source": [
    "x = 'Telangana'\n",
    "x"
   ]
  },
  {
   "cell_type": "code",
   "execution_count": 65,
   "id": "4511a6af-5ddd-47a7-a92b-4cf6b1b97b7f",
   "metadata": {},
   "outputs": [
    {
     "data": {
      "text/plain": [
       "False"
      ]
     },
     "execution_count": 65,
     "metadata": {},
     "output_type": "execute_result"
    }
   ],
   "source": [
    "l = 'mizra'\n",
    "l.startswith('M')"
   ]
  },
  {
   "cell_type": "code",
   "execution_count": 55,
   "id": "49c095b6-c896-41f3-ab48-23183d663c0e",
   "metadata": {},
   "outputs": [
    {
     "name": "stdout",
     "output_type": "stream",
     "text": [
      "no\n"
     ]
    }
   ],
   "source": [
    "if x.startswith('M'):\n",
    "    print('yes')\n",
    "else:\n",
    "    print('no')"
   ]
  },
  {
   "cell_type": "code",
   "execution_count": 53,
   "id": "ae9a6469-a814-4ef6-be16-c3ffaf1f8b2e",
   "metadata": {},
   "outputs": [
    {
     "name": "stdout",
     "output_type": "stream",
     "text": [
      "yes\n"
     ]
    }
   ],
   "source": [
    "if l.startswith('M'):\n",
    "    print('yes')\n",
    "else:\n",
    "    print('no')"
   ]
  },
  {
   "cell_type": "code",
   "execution_count": 61,
   "id": "a2f0648e-d49e-4ddd-98a5-d04ba4e00657",
   "metadata": {},
   "outputs": [
    {
     "name": "stdout",
     "output_type": "stream",
     "text": [
      "false\n"
     ]
    }
   ],
   "source": [
    "if l[4] == 'q':\n",
    "    print('true')\n",
    "else:\n",
    "    print('false')"
   ]
  },
  {
   "cell_type": "code",
   "execution_count": 67,
   "id": "69c2fdc6-92d6-4792-bba5-2d02c42ebc4c",
   "metadata": {},
   "outputs": [
    {
     "data": {
      "text/plain": [
       "True"
      ]
     },
     "execution_count": 67,
     "metadata": {},
     "output_type": "execute_result"
    }
   ],
   "source": [
    "l[0].lower() == 'm'"
   ]
  },
  {
   "cell_type": "code",
   "execution_count": 91,
   "id": "c5945998-c678-4fca-b8b2-1e234205acc8",
   "metadata": {},
   "outputs": [
    {
     "name": "stdout",
     "output_type": "stream",
     "text": [
      "true\n"
     ]
    }
   ],
   "source": [
    "g = 'HiSingapore'\n",
    "if g[0].lower()=='m' or g[0].lower()=='s' or g[0].lower()=='h':\n",
    "    print('true')\n",
    "else:\n",
    "    print('false')"
   ]
  },
  {
   "cell_type": "code",
   "execution_count": 69,
   "id": "0afe7626-7388-4d16-b1cd-f91109596489",
   "metadata": {},
   "outputs": [
    {
     "name": "stdout",
     "output_type": "stream",
     "text": [
      "yes\n"
     ]
    }
   ],
   "source": [
    "m = 'Kruthika'\n",
    "if m[0].lower()=='k':\n",
    "    print('yes')\n",
    "else:\n",
    "    print('no')"
   ]
  },
  {
   "cell_type": "code",
   "execution_count": null,
   "id": "69da1871-f164-4e75-86c5-a5df6dbb6424",
   "metadata": {},
   "outputs": [],
   "source": []
  },
  {
   "cell_type": "code",
   "execution_count": null,
   "id": "d110dfbe-859d-42f0-b143-a697b93d158b",
   "metadata": {},
   "outputs": [],
   "source": []
  }
 ],
 "metadata": {
  "kernelspec": {
   "display_name": "Python [conda env:base] *",
   "language": "python",
   "name": "conda-base-py"
  },
  "language_info": {
   "codemirror_mode": {
    "name": "ipython",
    "version": 3
   },
   "file_extension": ".py",
   "mimetype": "text/x-python",
   "name": "python",
   "nbconvert_exporter": "python",
   "pygments_lexer": "ipython3",
   "version": "3.12.7"
  }
 },
 "nbformat": 4,
 "nbformat_minor": 5
}
