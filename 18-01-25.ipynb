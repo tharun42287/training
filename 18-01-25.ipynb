{
 "cells": [
  {
   "cell_type": "code",
   "execution_count": 1,
   "id": "dc03bebd-fff7-4e30-9cfc-c5701e74ba8c",
   "metadata": {},
   "outputs": [],
   "source": [
    "import numpy as np\n"
   ]
  },
  {
   "cell_type": "code",
   "execution_count": 3,
   "id": "c7db4cd8-4212-463c-86a8-05c6c5f551f7",
   "metadata": {},
   "outputs": [
    {
     "data": {
      "text/plain": [
       "[30, 20, 5, 8, 9]"
      ]
     },
     "execution_count": 3,
     "metadata": {},
     "output_type": "execute_result"
    }
   ],
   "source": [
    "h=[30,20,5,8,9]\n",
    "h"
   ]
  },
  {
   "cell_type": "code",
   "execution_count": 32,
   "id": "534eb335-3847-415c-90cd-9500927b30a5",
   "metadata": {},
   "outputs": [
    {
     "name": "stdout",
     "output_type": "stream",
     "text": [
      "[37, 27, 12, 15, 16]\n"
     ]
    }
   ],
   "source": [
    "d=[]\n",
    "for i in h:\n",
    "    d.append(i+7)\n",
    "print(d)"
   ]
  },
  {
   "cell_type": "code",
   "execution_count": 63,
   "id": "e23b07a5-5155-40fa-b5f0-3ddee16b832f",
   "metadata": {},
   "outputs": [
    {
     "data": {
      "text/plain": [
       "(6, 2, 3, 9, 7, 5, 8)"
      ]
     },
     "execution_count": 63,
     "metadata": {},
     "output_type": "execute_result"
    }
   ],
   "source": [
    "t=(6,2,3,9,7,5,8)\n",
    "t"
   ]
  },
  {
   "cell_type": "code",
   "execution_count": 71,
   "id": "66fb53af-5f5a-4f1b-9fbc-319e6c778c22",
   "metadata": {},
   "outputs": [
    {
     "name": "stdout",
     "output_type": "stream",
     "text": [
      "(1679616, 256, 6561, 43046721, 5764801, 390625, 16777216)\n"
     ]
    }
   ],
   "source": [
    "y=list(t)\n",
    "k=[]\n",
    "for i in y:\n",
    "    k.append(i**2)\n",
    "    t=tuple(k)\n",
    "print(t)"
   ]
  },
  {
   "cell_type": "code",
   "execution_count": 87,
   "id": "c8f1f28a-aecc-4c56-b1ae-d996817c8af9",
   "metadata": {},
   "outputs": [],
   "source": [
    "m=[]\n",
    "for i in t:\n",
    "    if i>50:\n",
    "        m.append(i)"
   ]
  },
  {
   "cell_type": "code",
   "execution_count": 89,
   "id": "d1c0ffe9-ed87-493e-bcd0-1c25e246fdb7",
   "metadata": {},
   "outputs": [
    {
     "data": {
      "text/plain": [
       "[1679616, 256, 6561, 43046721, 5764801, 390625, 16777216]"
      ]
     },
     "execution_count": 89,
     "metadata": {},
     "output_type": "execute_result"
    }
   ],
   "source": [
    "m"
   ]
  },
  {
   "cell_type": "code",
   "execution_count": 91,
   "id": "04d51ba1-375b-4ce7-81bf-25a994b3f30f",
   "metadata": {},
   "outputs": [],
   "source": [
    "arr=np.array([20,50,30,70,80,40,36,54,26,98])"
   ]
  },
  {
   "cell_type": "code",
   "execution_count": 93,
   "id": "2bda0b0a-630e-44f7-858a-96ae78b095aa",
   "metadata": {},
   "outputs": [
    {
     "data": {
      "text/plain": [
       "array([20, 50, 30, 70, 80, 40, 36, 54, 26, 98])"
      ]
     },
     "execution_count": 93,
     "metadata": {},
     "output_type": "execute_result"
    }
   ],
   "source": [
    "arr"
   ]
  },
  {
   "cell_type": "code",
   "execution_count": 101,
   "id": "23659767-3ebc-42eb-9657-67a5a5dfd82d",
   "metadata": {},
   "outputs": [
    {
     "data": {
      "text/plain": [
       "array([ 27,  57,  37,  77,  87,  47,  43,  61,  33, 105])"
      ]
     },
     "execution_count": 101,
     "metadata": {},
     "output_type": "execute_result"
    }
   ],
   "source": [
    "q=arr+7 # adding an 7 to array\n",
    "q"
   ]
  },
  {
   "cell_type": "code",
   "execution_count": 103,
   "id": "4039e0ba-fb6f-4a63-aba4-f33b19758689",
   "metadata": {},
   "outputs": [
    {
     "data": {
      "text/plain": [
       "array([100, 250, 150, 350, 400, 200, 180, 270, 130, 490])"
      ]
     },
     "execution_count": 103,
     "metadata": {},
     "output_type": "execute_result"
    }
   ],
   "source": [
    "arr*5 # multiplying an array with 5"
   ]
  },
  {
   "cell_type": "code",
   "execution_count": 109,
   "id": "19a14e17-9aa6-4991-8b31-f9792d11383c",
   "metadata": {},
   "outputs": [
    {
     "data": {
      "text/plain": [
       "array([20, 50, 30, 70, 80, 40, 36, 54, 26, 98])"
      ]
     },
     "execution_count": 109,
     "metadata": {},
     "output_type": "execute_result"
    }
   ],
   "source": [
    "arr"
   ]
  },
  {
   "cell_type": "code",
   "execution_count": 111,
   "id": "865ae37d-0cb6-4051-a273-74e68f71c86a",
   "metadata": {},
   "outputs": [
    {
     "data": {
      "text/plain": [
       "array([False, False, False,  True,  True, False, False,  True, False,\n",
       "        True])"
      ]
     },
     "execution_count": 111,
     "metadata": {},
     "output_type": "execute_result"
    }
   ],
   "source": [
    "arr>50"
   ]
  },
  {
   "cell_type": "code",
   "execution_count": 131,
   "id": "0fa0c40d-e46f-4983-93e1-e654aa977f8f",
   "metadata": {},
   "outputs": [
    {
     "data": {
      "text/plain": [
       "array([20, 50, 30, 70, 80, 40, 36, 54, 26, 98])"
      ]
     },
     "execution_count": 131,
     "metadata": {},
     "output_type": "execute_result"
    }
   ],
   "source": [
    "arr"
   ]
  },
  {
   "cell_type": "code",
   "execution_count": 137,
   "id": "29088182-4560-4782-987c-94d05091dced",
   "metadata": {},
   "outputs": [
    {
     "data": {
      "text/plain": [
       "array([70, 80, 54, 98])"
      ]
     },
     "execution_count": 137,
     "metadata": {},
     "output_type": "execute_result"
    }
   ],
   "source": [
    "arr[arr>50]"
   ]
  },
  {
   "cell_type": "code",
   "execution_count": 141,
   "id": "73ee75b2-b7f9-4759-9a36-3e3097d34e60",
   "metadata": {},
   "outputs": [
    {
     "data": {
      "text/plain": [
       "array([70, 80, 54, 98])"
      ]
     },
     "execution_count": 141,
     "metadata": {},
     "output_type": "execute_result"
    }
   ],
   "source": [
    "arr[arr>+50]"
   ]
  },
  {
   "cell_type": "code",
   "execution_count": 143,
   "id": "2e9be731-b4d2-40e5-92da-044dcaaef716",
   "metadata": {},
   "outputs": [
    {
     "data": {
      "text/plain": [
       "array([50, 70, 80, 54, 98])"
      ]
     },
     "execution_count": 143,
     "metadata": {},
     "output_type": "execute_result"
    }
   ],
   "source": [
    "arr[arr>=50]"
   ]
  },
  {
   "cell_type": "code",
   "execution_count": 147,
   "id": "d27e7bcc-9e75-4188-b079-065233640fbf",
   "metadata": {},
   "outputs": [
    {
     "data": {
      "text/plain": [
       "array([20, 30, 40, 36, 26])"
      ]
     },
     "execution_count": 147,
     "metadata": {},
     "output_type": "execute_result"
    }
   ],
   "source": [
    "arr[arr<50]"
   ]
  },
  {
   "cell_type": "code",
   "execution_count": 159,
   "id": "b9033193-e401-4aad-bd96-7460af0baf4a",
   "metadata": {},
   "outputs": [
    {
     "data": {
      "text/plain": [
       "array([20, 50, 30, 40, 36, 26])"
      ]
     },
     "execution_count": 159,
     "metadata": {},
     "output_type": "execute_result"
    }
   ],
   "source": [
    "arr[arr<=50]"
   ]
  },
  {
   "cell_type": "code",
   "execution_count": 162,
   "id": "b766c275-e7d1-4fc5-aa79-3fd810f2d435",
   "metadata": {},
   "outputs": [
    {
     "data": {
      "text/plain": [
       "[36, 4, 9, 81, 49, 25, 64]"
      ]
     },
     "execution_count": 162,
     "metadata": {},
     "output_type": "execute_result"
    }
   ],
   "source": [
    "v=[36,4,9,81,49,25,64]\n",
    "v"
   ]
  },
  {
   "cell_type": "code",
   "execution_count": 175,
   "id": "e19e2f63-5366-4fe6-86c1-05e819bc5595",
   "metadata": {},
   "outputs": [
    {
     "data": {
      "text/plain": [
       "[3, 6]"
      ]
     },
     "execution_count": 175,
     "metadata": {},
     "output_type": "execute_result"
    }
   ],
   "source": [
    "index=[]\n",
    "for i in range(len(v)):\n",
    "    if v[i]>50:\n",
    "        index.append(i)\n",
    "index        "
   ]
  },
  {
   "cell_type": "code",
   "execution_count": 177,
   "id": "992f2346-b2d5-4bcb-9c23-98b8b3d93065",
   "metadata": {},
   "outputs": [
    {
     "data": {
      "text/plain": [
       "[0, 3, 4, 5, 6]"
      ]
     },
     "execution_count": 177,
     "metadata": {},
     "output_type": "execute_result"
    }
   ],
   "source": [
    "index=[]\n",
    "for i in range(len(v)):\n",
    "    if v[i]>20:\n",
    "        index.append(i)\n",
    "index        "
   ]
  },
  {
   "cell_type": "code",
   "execution_count": 183,
   "id": "d8a17509-0626-4ccb-b62b-febf4e613bdd",
   "metadata": {},
   "outputs": [
    {
     "data": {
      "text/plain": [
       "array([70, 80, 54, 98])"
      ]
     },
     "execution_count": 183,
     "metadata": {},
     "output_type": "execute_result"
    }
   ],
   "source": [
    "arr[arr>50] #elements satisifying condition"
   ]
  },
  {
   "cell_type": "code",
   "execution_count": 179,
   "id": "956b74dc-ff19-419e-99d2-b65262fc676b",
   "metadata": {},
   "outputs": [
    {
     "data": {
      "text/plain": [
       "(array([3, 4, 7, 9], dtype=int64),)"
      ]
     },
     "execution_count": 179,
     "metadata": {},
     "output_type": "execute_result"
    }
   ],
   "source": [
    "np.where(arr>50) #indexes of elements satisifying condition"
   ]
  },
  {
   "cell_type": "code",
   "execution_count": 181,
   "id": "4dae1a59-14d1-48f3-9845-e86116900da3",
   "metadata": {},
   "outputs": [
    {
     "data": {
      "text/plain": [
       "(array([1, 2, 3, 4, 5, 6, 7, 8, 9], dtype=int64),)"
      ]
     },
     "execution_count": 181,
     "metadata": {},
     "output_type": "execute_result"
    }
   ],
   "source": [
    "np.where(arr>20)"
   ]
  },
  {
   "cell_type": "code",
   "execution_count": null,
   "id": "f443098e-6027-4d26-8614-b0043c027972",
   "metadata": {},
   "outputs": [],
   "source": []
  }
 ],
 "metadata": {
  "kernelspec": {
   "display_name": "Python [conda env:base] *",
   "language": "python",
   "name": "conda-base-py"
  },
  "language_info": {
   "codemirror_mode": {
    "name": "ipython",
    "version": 3
   },
   "file_extension": ".py",
   "mimetype": "text/x-python",
   "name": "python",
   "nbconvert_exporter": "python",
   "pygments_lexer": "ipython3",
   "version": "3.12.7"
  }
 },
 "nbformat": 4,
 "nbformat_minor": 5
}
