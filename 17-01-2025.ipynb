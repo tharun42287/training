{
 "cells": [
  {
   "cell_type": "code",
   "execution_count": 3,
   "id": "bd845bde-c830-42b2-ba5e-b982c81447dc",
   "metadata": {},
   "outputs": [],
   "source": [
    "import numpy as np\n",
    "j=[4,6,2,8,9]"
   ]
  },
  {
   "cell_type": "code",
   "execution_count": 5,
   "id": "6b24c3fa-2caa-433a-bc09-16315c28768d",
   "metadata": {},
   "outputs": [
    {
     "ename": "SyntaxError",
     "evalue": "unmatched ')' (1358297516.py, line 1)",
     "output_type": "error",
     "traceback": [
      "\u001b[1;36m  Cell \u001b[1;32mIn[5], line 1\u001b[1;36m\u001b[0m\n\u001b[1;33m    1)numpy                   :  Array Operations\u001b[0m\n\u001b[1;37m     ^\u001b[0m\n\u001b[1;31mSyntaxError\u001b[0m\u001b[1;31m:\u001b[0m unmatched ')'\n"
     ]
    }
   ],
   "source": [
    "1)numpy                   :  Array Operations\n",
    "2)pandas                  :  Data manipulation and Analysis\n",
    "3)matplotlib and seaborn  :  Graphical Analysis\n",
    "4)sklearn                 :  Machine learning algorithms and Techniques\n",
    "5)statmodels              :  Statical analysis\n",
    "6)scipy                   :  Statical analysis"
   ]
  },
  {
   "cell_type": "code",
   "execution_count": 7,
   "id": "74aafe77-25c8-4211-9c4f-3a2b6c658153",
   "metadata": {},
   "outputs": [
    {
     "data": {
      "text/plain": [
       "[4, 6, 2, 8, 9, 5]"
      ]
     },
     "execution_count": 7,
     "metadata": {},
     "output_type": "execute_result"
    }
   ],
   "source": [
    "j=[4,6,2,8,9,5]\n",
    "j"
   ]
  },
  {
   "cell_type": "code",
   "execution_count": 9,
   "id": "dfff6f2c-3e1c-473b-8d0d-3fd197e1ffeb",
   "metadata": {},
   "outputs": [
    {
     "data": {
      "text/plain": [
       "array([4, 6, 2, 8, 9, 5])"
      ]
     },
     "execution_count": 9,
     "metadata": {},
     "output_type": "execute_result"
    }
   ],
   "source": [
    "d=np.array(j)\n",
    "d"
   ]
  },
  {
   "cell_type": "code",
   "execution_count": 11,
   "id": "9a6aa9c3-4902-4e48-bdc2-613fd75f7dda",
   "metadata": {},
   "outputs": [
    {
     "data": {
      "text/plain": [
       "numpy.ndarray"
      ]
     },
     "execution_count": 11,
     "metadata": {},
     "output_type": "execute_result"
    }
   ],
   "source": [
    "type(d)"
   ]
  },
  {
   "cell_type": "code",
   "execution_count": 13,
   "id": "de6750ff-bea1-40f5-95e9-718f8a7dea67",
   "metadata": {},
   "outputs": [
    {
     "data": {
      "text/plain": [
       "(4, 6, 2, 8, 9, 5)"
      ]
     },
     "execution_count": 13,
     "metadata": {},
     "output_type": "execute_result"
    }
   ],
   "source": [
    "tuple(j)"
   ]
  },
  {
   "cell_type": "code",
   "execution_count": 15,
   "id": "8bb5096e-a3bc-490f-9f56-8f09c4a484a7",
   "metadata": {},
   "outputs": [
    {
     "data": {
      "text/plain": [
       "array([4, 6, 2, 8, 9, 5])"
      ]
     },
     "execution_count": 15,
     "metadata": {},
     "output_type": "execute_result"
    }
   ],
   "source": [
    "d"
   ]
  },
  {
   "cell_type": "code",
   "execution_count": 17,
   "id": "ac0a68f5-f38e-4349-9e2c-3499e954f026",
   "metadata": {},
   "outputs": [
    {
     "data": {
      "text/plain": [
       "5.666666666666667"
      ]
     },
     "execution_count": 17,
     "metadata": {},
     "output_type": "execute_result"
    }
   ],
   "source": [
    "np.mean(d)"
   ]
  },
  {
   "cell_type": "code",
   "execution_count": 19,
   "id": "9adf518f-bbc9-4348-aed6-f3e6f351560f",
   "metadata": {},
   "outputs": [
    {
     "data": {
      "text/plain": [
       "5.5"
      ]
     },
     "execution_count": 19,
     "metadata": {},
     "output_type": "execute_result"
    }
   ],
   "source": [
    "np.median(d)"
   ]
  },
  {
   "cell_type": "code",
   "execution_count": 21,
   "id": "51850efa-292a-41f6-806f-ef2d2148dc0b",
   "metadata": {},
   "outputs": [
    {
     "data": {
      "text/plain": [
       "5.5555555555555545"
      ]
     },
     "execution_count": 21,
     "metadata": {},
     "output_type": "execute_result"
    }
   ],
   "source": [
    "np.var(d)"
   ]
  },
  {
   "cell_type": "code",
   "execution_count": 24,
   "id": "72220440-b232-4dd4-81d8-105c36be2d63",
   "metadata": {},
   "outputs": [
    {
     "data": {
      "text/plain": [
       "2"
      ]
     },
     "execution_count": 24,
     "metadata": {},
     "output_type": "execute_result"
    }
   ],
   "source": [
    "np.min(d)"
   ]
  },
  {
   "cell_type": "code",
   "execution_count": 27,
   "id": "514e2282-3bc6-42b2-a669-ee1e40f031e7",
   "metadata": {},
   "outputs": [
    {
     "data": {
      "text/plain": [
       "9"
      ]
     },
     "execution_count": 27,
     "metadata": {},
     "output_type": "execute_result"
    }
   ],
   "source": [
    "np.max(d)"
   ]
  },
  {
   "cell_type": "code",
   "execution_count": 37,
   "id": "e1cb280e-bbe3-4b1f-b5fc-281727138886",
   "metadata": {},
   "outputs": [
    {
     "data": {
      "text/plain": [
       "4.25"
      ]
     },
     "execution_count": 37,
     "metadata": {},
     "output_type": "execute_result"
    }
   ],
   "source": [
    "np.quantile(d,0.25) #quantile=25%"
   ]
  },
  {
   "cell_type": "code",
   "execution_count": 39,
   "id": "96f75b6c-9dc1-4ff4-8d40-c8526d4c7e26",
   "metadata": {},
   "outputs": [
    {
     "data": {
      "text/plain": [
       "2.5"
      ]
     },
     "execution_count": 39,
     "metadata": {},
     "output_type": "execute_result"
    }
   ],
   "source": [
    "np.quantile(d,0.05)"
   ]
  },
  {
   "cell_type": "code",
   "execution_count": 41,
   "id": "905cfac1-fe60-40c1-b7f1-41e541080091",
   "metadata": {},
   "outputs": [
    {
     "data": {
      "text/plain": [
       "7.5"
      ]
     },
     "execution_count": 41,
     "metadata": {},
     "output_type": "execute_result"
    }
   ],
   "source": [
    "np.quantile(d,0.75)"
   ]
  },
  {
   "cell_type": "code",
   "execution_count": 45,
   "id": "e4cddad2-ddd8-4aee-a94f-e64692c89451",
   "metadata": {},
   "outputs": [
    {
     "data": {
      "text/plain": [
       "0.11917455109032726"
      ]
     },
     "execution_count": 45,
     "metadata": {},
     "output_type": "execute_result"
    }
   ],
   "source": [
    "r=np.random.rand()\n",
    "r"
   ]
  },
  {
   "cell_type": "code",
   "execution_count": 49,
   "id": "66db6707-57a7-4d83-bb1d-297e8b428c4a",
   "metadata": {},
   "outputs": [
    {
     "data": {
      "text/plain": [
       "array([0.20399211, 0.43342424, 0.83400926, 0.16547238, 0.26203152,\n",
       "       0.30472914, 0.54247093, 0.67032145, 0.91012684, 0.38535834,\n",
       "       0.43573928, 0.79268296, 0.66243218, 0.64383816, 0.09522769,\n",
       "       0.51698869, 0.54241572, 0.52972818, 0.02274133, 0.77302297,\n",
       "       0.100201  , 0.76929428, 0.32931014, 0.92618058, 0.95168497,\n",
       "       0.16000384, 0.67549463, 0.71599937, 0.65641054, 0.01987439,\n",
       "       0.84105002, 0.31798151, 0.10407154, 0.82138659, 0.71186885,\n",
       "       0.86378224, 0.64787673, 0.95448907, 0.847635  , 0.479597  ,\n",
       "       0.60221512, 0.7195567 , 0.90359233, 0.26801523, 0.66213486,\n",
       "       0.01707249, 0.34635517, 0.37798039, 0.18142385, 0.12592698,\n",
       "       0.73489577, 0.45659013, 0.9275225 , 0.77568327, 0.63165397,\n",
       "       0.2977214 , 0.44608528, 0.64843519, 0.84774325, 0.03168779,\n",
       "       0.8464138 , 0.11237591, 0.41015262, 0.80562633, 0.17343228,\n",
       "       0.90164352, 0.92664543, 0.41852144, 0.34318911, 0.73845039,\n",
       "       0.44710052, 0.01938271, 0.11028093, 0.08477914, 0.00497979,\n",
       "       0.11934095, 0.61862789, 0.96524355, 0.91554782, 0.07708576,\n",
       "       0.21675724, 0.19127271, 0.10293814, 0.70120562, 0.53701049,\n",
       "       0.42269245, 0.77107672, 0.10700158, 0.76544806, 0.55500972,\n",
       "       0.14006674, 0.31097528, 0.11290832, 0.06109517, 0.65842266,\n",
       "       0.83557536, 0.89248365, 0.90993931, 0.61443873, 0.78443467])"
      ]
     },
     "execution_count": 49,
     "metadata": {},
     "output_type": "execute_result"
    }
   ],
   "source": [
    "r=np.random.rand(100)\n",
    "r"
   ]
  },
  {
   "cell_type": "code",
   "execution_count": 51,
   "id": "864d50ac-0699-4d62-b88e-2e4c4005053a",
   "metadata": {},
   "outputs": [
    {
     "data": {
      "text/plain": [
       "(100,)"
      ]
     },
     "execution_count": 51,
     "metadata": {},
     "output_type": "execute_result"
    }
   ],
   "source": [
    "r.shape"
   ]
  },
  {
   "cell_type": "code",
   "execution_count": 53,
   "id": "fbef216b-3495-44dc-aa69-4a65fc2b33fe",
   "metadata": {},
   "outputs": [
    {
     "data": {
      "text/plain": [
       "100"
      ]
     },
     "execution_count": 53,
     "metadata": {},
     "output_type": "execute_result"
    }
   ],
   "source": [
    "r.size"
   ]
  },
  {
   "cell_type": "code",
   "execution_count": 55,
   "id": "220b9b4e-a114-4c29-96a2-2506f9188088",
   "metadata": {},
   "outputs": [
    {
     "data": {
      "text/plain": [
       "1"
      ]
     },
     "execution_count": 55,
     "metadata": {},
     "output_type": "execute_result"
    }
   ],
   "source": [
    "r.ndim"
   ]
  },
  {
   "cell_type": "code",
   "execution_count": 64,
   "id": "c19f8965-49d5-4d4e-9fec-286636206258",
   "metadata": {},
   "outputs": [
    {
     "data": {
      "text/plain": [
       "array([[0.87067861, 0.51054541, 0.88765283],\n",
       "       [0.71225742, 0.03901784, 0.21942911],\n",
       "       [0.98117959, 0.85374053, 0.1163579 ],\n",
       "       [0.78951725, 0.45187451, 0.3111077 ],\n",
       "       [0.5571776 , 0.39776234, 0.41337921]])"
      ]
     },
     "execution_count": 64,
     "metadata": {},
     "output_type": "execute_result"
    }
   ],
   "source": [
    "r=np.random.rand(5,3)\n",
    "r"
   ]
  },
  {
   "cell_type": "code",
   "execution_count": 68,
   "id": "623920ef-e83a-49b6-acaf-cd8d9b4fed7e",
   "metadata": {},
   "outputs": [
    {
     "data": {
      "text/plain": [
       "array([[[0.90741699, 0.29082839],\n",
       "        [0.35914328, 0.26614417],\n",
       "        [0.81560216, 0.07053782]],\n",
       "\n",
       "       [[0.27714359, 0.62946286],\n",
       "        [0.20389952, 0.47201538],\n",
       "        [0.7189383 , 0.29161382]],\n",
       "\n",
       "       [[0.2217781 , 0.95812286],\n",
       "        [0.76832693, 0.81467677],\n",
       "        [0.09618356, 0.99789277]],\n",
       "\n",
       "       [[0.60508703, 0.28471952],\n",
       "        [0.8291631 , 0.13590611],\n",
       "        [0.57906992, 0.51036844]],\n",
       "\n",
       "       [[0.2191812 , 0.89100926],\n",
       "        [0.84058738, 0.54015783],\n",
       "        [0.86071864, 0.74750139]]])"
      ]
     },
     "execution_count": 68,
     "metadata": {},
     "output_type": "execute_result"
    }
   ],
   "source": [
    "r=np.random.rand(5,3,2)\n",
    "r"
   ]
  },
  {
   "cell_type": "code",
   "execution_count": 71,
   "id": "37a18e6e-c33d-4972-a5f3-35caced9b12d",
   "metadata": {},
   "outputs": [
    {
     "data": {
      "text/plain": [
       "array([[10.85330162, 12.7169777 ,  7.91920977, 12.24673489,  6.38766907],\n",
       "       [ 8.64050547, 11.62415163,  9.08951195, 12.90121753, 12.2422206 ],\n",
       "       [13.06491145,  8.4054379 , 10.44288416, 10.19343118, 10.40558598],\n",
       "       [10.80859177,  9.27132344, 13.26651204, 12.11245238,  9.02114252]])"
      ]
     },
     "execution_count": 71,
     "metadata": {},
     "output_type": "execute_result"
    }
   ],
   "source": [
    "np.random.normal(10,2,(4,5))"
   ]
  },
  {
   "cell_type": "code",
   "execution_count": 73,
   "id": "50dfdf07-19d7-495d-a2f9-343c4eed7eb6",
   "metadata": {},
   "outputs": [
    {
     "data": {
      "text/plain": [
       "array([[33.5080926 , 41.70497548, 42.98013548, 46.71254911],\n",
       "       [42.04034558, 38.74463252, 29.83644638, 41.87053777],\n",
       "       [49.80456725, 39.3205691 , 33.79679428, 45.04710062],\n",
       "       [30.52557515, 34.7300782 , 44.12758728, 37.64014948],\n",
       "       [40.69996523, 32.60359857, 38.86467804, 42.70120189],\n",
       "       [36.79460257, 35.13537324, 44.20296424, 36.14072009],\n",
       "       [38.61357706, 39.73408471, 44.05896778, 47.16994381]])"
      ]
     },
     "execution_count": 73,
     "metadata": {},
     "output_type": "execute_result"
    }
   ],
   "source": [
    "np.random.normal(40,5,(7,4))"
   ]
  },
  {
   "cell_type": "code",
   "execution_count": 81,
   "id": "fe3ae918-58d5-4449-9914-2a0d67d25dc6",
   "metadata": {},
   "outputs": [
    {
     "data": {
      "text/plain": [
       "array([69, 84, 42, 48, 61, 75, 37, 75, 43, 73, 79, 44, 74, 80, 47, 70, 76,\n",
       "       71, 52, 38, 61, 36, 84, 63, 48, 47, 64, 83, 46, 78, 74, 55, 80, 85,\n",
       "       56, 64, 66, 79, 43, 35, 39, 75, 45, 75, 51, 72, 55, 43, 65, 48, 78,\n",
       "       36, 64, 47, 46, 48, 67, 42, 61, 35, 56, 74, 80, 67, 39, 85, 47, 76,\n",
       "       75, 69, 63, 82, 71, 44, 75, 61, 63, 78, 38, 71, 50, 36, 47, 84, 40,\n",
       "       38, 52, 46, 74, 41, 43, 83, 58, 67, 63, 63, 38, 44, 38, 66, 59, 55,\n",
       "       85, 45, 63, 77, 42, 59, 48, 82, 38, 60, 57, 36, 80, 76, 63, 62, 69,\n",
       "       55, 80, 71, 80, 69, 82, 47, 83, 60, 85, 61, 42, 48, 46, 38, 45, 67,\n",
       "       50, 65, 84, 42, 75, 57, 84, 41, 53, 78, 54, 52, 47, 57, 49, 50, 53,\n",
       "       69, 85, 63, 36, 82, 47, 81, 74, 56, 70, 51, 82, 66, 50, 52, 67, 35,\n",
       "       43, 78, 71, 58, 37, 47, 79, 45, 40, 60, 72, 47, 81, 63, 69, 67, 64,\n",
       "       44, 45, 57, 53, 39, 41, 76, 55, 67, 73, 85, 72, 73])"
      ]
     },
     "execution_count": 81,
     "metadata": {},
     "output_type": "execute_result"
    }
   ],
   "source": [
    "np.random.randint(35,86,200)"
   ]
  },
  {
   "cell_type": "code",
   "execution_count": 83,
   "id": "5c9e8964-8bfc-426d-955b-6a1793be6033",
   "metadata": {},
   "outputs": [
    {
     "data": {
      "text/plain": [
       "array([47, 76, 36, 82, 41])"
      ]
     },
     "execution_count": 83,
     "metadata": {},
     "output_type": "execute_result"
    }
   ],
   "source": [
    "np.random.randint(35,86,5)"
   ]
  },
  {
   "cell_type": "code",
   "execution_count": 85,
   "id": "c72ad7f2-89e0-406a-8a49-f25ecb6c2483",
   "metadata": {},
   "outputs": [
    {
     "data": {
      "text/plain": [
       "array([[58, 47, 69, 48, 35],\n",
       "       [46, 55, 70, 40, 72],\n",
       "       [64, 36, 84, 64, 69],\n",
       "       [58, 53, 74, 71, 64],\n",
       "       [39, 63, 47, 66, 85]])"
      ]
     },
     "execution_count": 85,
     "metadata": {},
     "output_type": "execute_result"
    }
   ],
   "source": [
    "np.random.randint(35,86,(5,5))"
   ]
  },
  {
   "cell_type": "code",
   "execution_count": 75,
   "id": "e321ab29-4a4c-426c-afa0-548d3c7b963e",
   "metadata": {},
   "outputs": [
    {
     "data": {
      "text/plain": [
       "6"
      ]
     },
     "execution_count": 75,
     "metadata": {},
     "output_type": "execute_result"
    }
   ],
   "source": [
    "d.size"
   ]
  },
  {
   "cell_type": "code",
   "execution_count": 96,
   "id": "21743bf2-683b-4a15-b6cd-9b6b170339d6",
   "metadata": {},
   "outputs": [
    {
     "data": {
      "text/plain": [
       "array([[4, 6],\n",
       "       [2, 8],\n",
       "       [9, 5]])"
      ]
     },
     "execution_count": 96,
     "metadata": {},
     "output_type": "execute_result"
    }
   ],
   "source": [
    "d.reshape(3,2)"
   ]
  },
  {
   "cell_type": "code",
   "execution_count": 102,
   "id": "4e146064-9b92-401b-aab0-2caca12f1ddc",
   "metadata": {},
   "outputs": [
    {
     "data": {
      "text/plain": [
       "array([[4, 6],\n",
       "       [2, 8],\n",
       "       [9, 5]])"
      ]
     },
     "execution_count": 102,
     "metadata": {},
     "output_type": "execute_result"
    }
   ],
   "source": [
    "w=d.reshape(3,2)\n",
    "w"
   ]
  },
  {
   "cell_type": "code",
   "execution_count": 104,
   "id": "a0279d2d-5ff5-4088-9bb0-54277c838f73",
   "metadata": {},
   "outputs": [
    {
     "data": {
      "text/plain": [
       "(3, 2)"
      ]
     },
     "execution_count": 104,
     "metadata": {},
     "output_type": "execute_result"
    }
   ],
   "source": [
    "w.shape"
   ]
  },
  {
   "cell_type": "code",
   "execution_count": 106,
   "id": "fa153707-eedd-4a0a-8e72-b38bb06c2960",
   "metadata": {},
   "outputs": [
    {
     "data": {
      "text/plain": [
       "6"
      ]
     },
     "execution_count": 106,
     "metadata": {},
     "output_type": "execute_result"
    }
   ],
   "source": [
    "w.size"
   ]
  },
  {
   "cell_type": "code",
   "execution_count": 108,
   "id": "27ff4400-7749-4f10-8012-aef187220246",
   "metadata": {},
   "outputs": [
    {
     "data": {
      "text/plain": [
       "2"
      ]
     },
     "execution_count": 108,
     "metadata": {},
     "output_type": "execute_result"
    }
   ],
   "source": [
    "w.ndim"
   ]
  },
  {
   "cell_type": "code",
   "execution_count": 98,
   "id": "8a38c924-bb77-4120-904e-7917c7560b19",
   "metadata": {},
   "outputs": [
    {
     "data": {
      "text/plain": [
       "array([[4, 6, 2],\n",
       "       [8, 9, 5]])"
      ]
     },
     "execution_count": 98,
     "metadata": {},
     "output_type": "execute_result"
    }
   ],
   "source": [
    "h=d.reshape(2,3)\n",
    "h"
   ]
  },
  {
   "cell_type": "code",
   "execution_count": 92,
   "id": "e0d03384-51cc-4540-a425-38577e4d1867",
   "metadata": {},
   "outputs": [
    {
     "data": {
      "text/plain": [
       "2"
      ]
     },
     "execution_count": 92,
     "metadata": {},
     "output_type": "execute_result"
    }
   ],
   "source": [
    "h.ndim"
   ]
  },
  {
   "cell_type": "code",
   "execution_count": 94,
   "id": "2cb42229-ba70-407c-88a2-410daf2ad662",
   "metadata": {},
   "outputs": [
    {
     "data": {
      "text/plain": [
       "6"
      ]
     },
     "execution_count": 94,
     "metadata": {},
     "output_type": "execute_result"
    }
   ],
   "source": [
    "h.size"
   ]
  },
  {
   "cell_type": "code",
   "execution_count": 5,
   "id": "918f099e-cbb2-4e70-8ad9-00bf4f819851",
   "metadata": {},
   "outputs": [
    {
     "data": {
      "text/plain": [
       "[[4, 8, 90, 12],\n",
       " [56, 78, 54, 20],\n",
       " [67, 89, 50, 49],\n",
       " [77, 88, 22, 55],\n",
       " [90, 40, 70, 60]]"
      ]
     },
     "execution_count": 5,
     "metadata": {},
     "output_type": "execute_result"
    }
   ],
   "source": [
    "s=[[4,8,90,12],[56,78,54,20],[67,89,50,49],[77,88,22,55],[90,40,70,60]]\n",
    "s"
   ]
  },
  {
   "cell_type": "code",
   "execution_count": 7,
   "id": "6d7398bb-f790-4d1f-9664-c99f60fac9bc",
   "metadata": {},
   "outputs": [
    {
     "data": {
      "text/plain": [
       "list"
      ]
     },
     "execution_count": 7,
     "metadata": {},
     "output_type": "execute_result"
    }
   ],
   "source": [
    "type(s)"
   ]
  },
  {
   "cell_type": "code",
   "execution_count": 9,
   "id": "f38388ba-0b50-4195-81a5-2924e5c91fdb",
   "metadata": {},
   "outputs": [
    {
     "data": {
      "text/plain": [
       "[[4, 8, 90, 12],\n",
       " [56, 78, 54, 20],\n",
       " [67, 89, 50, 49],\n",
       " [77, 88, 22, 55],\n",
       " [90, 40, 70, 60]]"
      ]
     },
     "execution_count": 9,
     "metadata": {},
     "output_type": "execute_result"
    }
   ],
   "source": [
    "import numpy as np\n",
    "arr1=np.array(s)\n",
    "s"
   ]
  },
  {
   "cell_type": "code",
   "execution_count": 11,
   "id": "9eb8fe88-adce-4de6-a0f9-fed6c61ece50",
   "metadata": {},
   "outputs": [
    {
     "data": {
      "text/plain": [
       "(5, 4)"
      ]
     },
     "execution_count": 11,
     "metadata": {},
     "output_type": "execute_result"
    }
   ],
   "source": [
    "arr1.shape"
   ]
  },
  {
   "cell_type": "code",
   "execution_count": 13,
   "id": "11594b5d-5770-42cf-a784-d20991f70510",
   "metadata": {},
   "outputs": [
    {
     "data": {
      "text/plain": [
       "20"
      ]
     },
     "execution_count": 13,
     "metadata": {},
     "output_type": "execute_result"
    }
   ],
   "source": [
    "arr1.size"
   ]
  },
  {
   "cell_type": "code",
   "execution_count": 15,
   "id": "6c83a932-d85c-4def-9156-d84545ee6680",
   "metadata": {},
   "outputs": [
    {
     "data": {
      "text/plain": [
       "2"
      ]
     },
     "execution_count": 15,
     "metadata": {},
     "output_type": "execute_result"
    }
   ],
   "source": [
    "arr1.ndim"
   ]
  },
  {
   "cell_type": "code",
   "execution_count": 17,
   "id": "b41f69ba-9471-4667-9163-f65be863f42d",
   "metadata": {},
   "outputs": [
    {
     "data": {
      "text/plain": [
       "array([[ 4,  8, 90, 12],\n",
       "       [56, 78, 54, 20],\n",
       "       [67, 89, 50, 49],\n",
       "       [77, 88, 22, 55],\n",
       "       [90, 40, 70, 60]])"
      ]
     },
     "execution_count": 17,
     "metadata": {},
     "output_type": "execute_result"
    }
   ],
   "source": [
    "arr1"
   ]
  },
  {
   "cell_type": "code",
   "execution_count": 19,
   "id": "7dff20b8-89ec-4e38-a5e8-919102d30bea",
   "metadata": {},
   "outputs": [
    {
     "data": {
      "text/plain": [
       "array([[[ 4,  8, 90, 12, 56],\n",
       "        [78, 54, 20, 67, 89]],\n",
       "\n",
       "       [[50, 49, 77, 88, 22],\n",
       "        [55, 90, 40, 70, 60]]])"
      ]
     },
     "execution_count": 19,
     "metadata": {},
     "output_type": "execute_result"
    }
   ],
   "source": [
    "k=arr1.reshape(2,2,5)\n",
    "k"
   ]
  },
  {
   "cell_type": "code",
   "execution_count": 21,
   "id": "66ef846a-d9b1-436f-9ccd-481ce0ef19fd",
   "metadata": {},
   "outputs": [
    {
     "data": {
      "text/plain": [
       "20"
      ]
     },
     "execution_count": 21,
     "metadata": {},
     "output_type": "execute_result"
    }
   ],
   "source": [
    "k.size"
   ]
  },
  {
   "cell_type": "code",
   "execution_count": 23,
   "id": "8241e149-65fc-4e2d-8c6a-9c8b8a0bda92",
   "metadata": {},
   "outputs": [
    {
     "data": {
      "text/plain": [
       "3"
      ]
     },
     "execution_count": 23,
     "metadata": {},
     "output_type": "execute_result"
    }
   ],
   "source": [
    "k.ndim"
   ]
  },
  {
   "cell_type": "code",
   "execution_count": 25,
   "id": "d6d1b15e-bea9-4224-b025-d4fa276d5c41",
   "metadata": {},
   "outputs": [
    {
     "data": {
      "text/plain": [
       "(2, 2, 5)"
      ]
     },
     "execution_count": 25,
     "metadata": {},
     "output_type": "execute_result"
    }
   ],
   "source": [
    "k.shape"
   ]
  },
  {
   "cell_type": "code",
   "execution_count": 27,
   "id": "6fe9579a-e32d-4d9e-a67a-e89d0f9550e9",
   "metadata": {},
   "outputs": [
    {
     "data": {
      "text/plain": [
       "array([ 4,  8, 90, 12, 56, 78, 54, 20, 67, 89, 50, 49, 77, 88, 22, 55, 90,\n",
       "       40, 70, 60])"
      ]
     },
     "execution_count": 27,
     "metadata": {},
     "output_type": "execute_result"
    }
   ],
   "source": [
    "y=arr1.reshape(20,)\n",
    "y"
   ]
  },
  {
   "cell_type": "code",
   "execution_count": 29,
   "id": "0f5d57b1-7cbe-4b35-a377-61858f213a20",
   "metadata": {},
   "outputs": [
    {
     "data": {
      "text/plain": [
       "1"
      ]
     },
     "execution_count": 29,
     "metadata": {},
     "output_type": "execute_result"
    }
   ],
   "source": [
    "y.ndim"
   ]
  },
  {
   "cell_type": "code",
   "execution_count": 31,
   "id": "53bf6128-37f9-4f2b-9662-5441eea6b3e3",
   "metadata": {},
   "outputs": [
    {
     "data": {
      "text/plain": [
       "(20,)"
      ]
     },
     "execution_count": 31,
     "metadata": {},
     "output_type": "execute_result"
    }
   ],
   "source": [
    "y.shape"
   ]
  },
  {
   "cell_type": "code",
   "execution_count": 33,
   "id": "8f66164c-b905-45f4-bc77-bb2e04910117",
   "metadata": {},
   "outputs": [
    {
     "data": {
      "text/plain": [
       "20"
      ]
     },
     "execution_count": 33,
     "metadata": {},
     "output_type": "execute_result"
    }
   ],
   "source": [
    "y.size"
   ]
  },
  {
   "cell_type": "code",
   "execution_count": 35,
   "id": "65949fd3-9174-4442-97b5-b1a8e13b1bf6",
   "metadata": {},
   "outputs": [
    {
     "data": {
      "text/plain": [
       "array([[ 4],\n",
       "       [ 8],\n",
       "       [90],\n",
       "       [12],\n",
       "       [56],\n",
       "       [78],\n",
       "       [54],\n",
       "       [20],\n",
       "       [67],\n",
       "       [89],\n",
       "       [50],\n",
       "       [49],\n",
       "       [77],\n",
       "       [88],\n",
       "       [22],\n",
       "       [55],\n",
       "       [90],\n",
       "       [40],\n",
       "       [70],\n",
       "       [60]])"
      ]
     },
     "execution_count": 35,
     "metadata": {},
     "output_type": "execute_result"
    }
   ],
   "source": [
    "z=arr1.reshape(20,1)\n",
    "z"
   ]
  },
  {
   "cell_type": "code",
   "execution_count": 37,
   "id": "1e3c8318-5409-418a-802c-14c1f148f1c5",
   "metadata": {},
   "outputs": [
    {
     "data": {
      "text/plain": [
       "2"
      ]
     },
     "execution_count": 37,
     "metadata": {},
     "output_type": "execute_result"
    }
   ],
   "source": [
    "z.ndim"
   ]
  },
  {
   "cell_type": "code",
   "execution_count": 39,
   "id": "99dd4950-50e9-45d5-bb02-31e711e8d31f",
   "metadata": {},
   "outputs": [
    {
     "data": {
      "text/plain": [
       "array([[ 4,  8, 90, 12, 56, 78, 54, 20, 67, 89, 50, 49, 77, 88, 22, 55,\n",
       "        90, 40, 70, 60]])"
      ]
     },
     "execution_count": 39,
     "metadata": {},
     "output_type": "execute_result"
    }
   ],
   "source": [
    "z=arr1.reshape(1,20)\n",
    "z"
   ]
  },
  {
   "cell_type": "code",
   "execution_count": 42,
   "id": "71e9104d-371d-47f5-a213-8a5a70178235",
   "metadata": {},
   "outputs": [
    {
     "data": {
      "text/plain": [
       "(5, 4)"
      ]
     },
     "execution_count": 42,
     "metadata": {},
     "output_type": "execute_result"
    }
   ],
   "source": [
    "arr1.shape\n"
   ]
  },
  {
   "cell_type": "code",
   "execution_count": 44,
   "id": "4952366e-4620-44be-b6c0-7777a8b6b3a0",
   "metadata": {},
   "outputs": [
    {
     "data": {
      "text/plain": [
       "array([[[[ 4],\n",
       "         [ 8],\n",
       "         [90],\n",
       "         [12],\n",
       "         [56]],\n",
       "\n",
       "        [[78],\n",
       "         [54],\n",
       "         [20],\n",
       "         [67],\n",
       "         [89]]],\n",
       "\n",
       "\n",
       "       [[[50],\n",
       "         [49],\n",
       "         [77],\n",
       "         [88],\n",
       "         [22]],\n",
       "\n",
       "        [[55],\n",
       "         [90],\n",
       "         [40],\n",
       "         [70],\n",
       "         [60]]]])"
      ]
     },
     "execution_count": 44,
     "metadata": {},
     "output_type": "execute_result"
    }
   ],
   "source": [
    "arr1.reshape(2,2,5,1)"
   ]
  },
  {
   "cell_type": "code",
   "execution_count": 46,
   "id": "92e51ff8-94b7-4091-9804-608bb7237f40",
   "metadata": {},
   "outputs": [
    {
     "data": {
      "text/plain": [
       "array([[[[[ 4]],\n",
       "\n",
       "         [[ 8]],\n",
       "\n",
       "         [[90]],\n",
       "\n",
       "         [[12]],\n",
       "\n",
       "         [[56]]],\n",
       "\n",
       "\n",
       "        [[[78]],\n",
       "\n",
       "         [[54]],\n",
       "\n",
       "         [[20]],\n",
       "\n",
       "         [[67]],\n",
       "\n",
       "         [[89]]]],\n",
       "\n",
       "\n",
       "\n",
       "       [[[[50]],\n",
       "\n",
       "         [[49]],\n",
       "\n",
       "         [[77]],\n",
       "\n",
       "         [[88]],\n",
       "\n",
       "         [[22]]],\n",
       "\n",
       "\n",
       "        [[[55]],\n",
       "\n",
       "         [[90]],\n",
       "\n",
       "         [[40]],\n",
       "\n",
       "         [[70]],\n",
       "\n",
       "         [[60]]]]])"
      ]
     },
     "execution_count": 46,
     "metadata": {},
     "output_type": "execute_result"
    }
   ],
   "source": [
    "arr1.reshape(2,2,5,1,1)"
   ]
  },
  {
   "cell_type": "code",
   "execution_count": 48,
   "id": "308322b9-2832-4e10-a1ad-3a65578203fc",
   "metadata": {},
   "outputs": [
    {
     "data": {
      "text/plain": [
       "array([[[[[[ 4],\n",
       "           [ 8],\n",
       "           [90],\n",
       "           [12],\n",
       "           [56]],\n",
       "\n",
       "          [[78],\n",
       "           [54],\n",
       "           [20],\n",
       "           [67],\n",
       "           [89]]]],\n",
       "\n",
       "\n",
       "\n",
       "        [[[[50],\n",
       "           [49],\n",
       "           [77],\n",
       "           [88],\n",
       "           [22]],\n",
       "\n",
       "          [[55],\n",
       "           [90],\n",
       "           [40],\n",
       "           [70],\n",
       "           [60]]]]]])"
      ]
     },
     "execution_count": 48,
     "metadata": {},
     "output_type": "execute_result"
    }
   ],
   "source": [
    "arr1.reshape(1,2,1,2,5,1)"
   ]
  },
  {
   "cell_type": "code",
   "execution_count": 50,
   "id": "2ded0485-44da-4ef6-82c8-e2bc3bdedcc4",
   "metadata": {},
   "outputs": [
    {
     "data": {
      "text/plain": [
       "range(5, 20)"
      ]
     },
     "execution_count": 50,
     "metadata": {},
     "output_type": "execute_result"
    }
   ],
   "source": [
    "range(5,20)"
   ]
  },
  {
   "cell_type": "code",
   "execution_count": 56,
   "id": "2b0f9e25-dd50-40e4-b9bf-82343c1cdf82",
   "metadata": {},
   "outputs": [
    {
     "data": {
      "text/plain": [
       "[3, 4, 5, 6, 7, 8, 9, 10, 11, 12]"
      ]
     },
     "execution_count": 56,
     "metadata": {},
     "output_type": "execute_result"
    }
   ],
   "source": [
    "m=[3,4,5,6,7,8,9,10,11,12]\n",
    "m"
   ]
  },
  {
   "cell_type": "code",
   "execution_count": 58,
   "id": "9f3288b6-7be5-4a5e-a944-d4583538fed9",
   "metadata": {},
   "outputs": [
    {
     "data": {
      "text/plain": [
       "[3, 4, 5, 6, 7, 8, 9, 10, 11, 12]"
      ]
     },
     "execution_count": 58,
     "metadata": {},
     "output_type": "execute_result"
    }
   ],
   "source": [
    "list(range(3,13))"
   ]
  },
  {
   "cell_type": "code",
   "execution_count": 60,
   "id": "4fa4d3aa-1b4f-4e17-acf0-294665ffc406",
   "metadata": {},
   "outputs": [
    {
     "data": {
      "text/plain": [
       "[3, 5, 7, 9, 11]"
      ]
     },
     "execution_count": 60,
     "metadata": {},
     "output_type": "execute_result"
    }
   ],
   "source": [
    "list(range(3,13,2))"
   ]
  },
  {
   "cell_type": "code",
   "execution_count": 62,
   "id": "2f59b03a-80b2-49ea-8acd-7d7d24222681",
   "metadata": {},
   "outputs": [
    {
     "data": {
      "text/plain": [
       "range(5, 500)"
      ]
     },
     "execution_count": 62,
     "metadata": {},
     "output_type": "execute_result"
    }
   ],
   "source": [
    "range(5,500)"
   ]
  },
  {
   "cell_type": "code",
   "execution_count": 64,
   "id": "b6cb8ec3-1203-432d-bde4-9bff0ac54b9c",
   "metadata": {},
   "outputs": [
    {
     "data": {
      "text/plain": [
       "(5,\n",
       " 6,\n",
       " 7,\n",
       " 8,\n",
       " 9,\n",
       " 10,\n",
       " 11,\n",
       " 12,\n",
       " 13,\n",
       " 14,\n",
       " 15,\n",
       " 16,\n",
       " 17,\n",
       " 18,\n",
       " 19,\n",
       " 20,\n",
       " 21,\n",
       " 22,\n",
       " 23,\n",
       " 24,\n",
       " 25,\n",
       " 26,\n",
       " 27,\n",
       " 28,\n",
       " 29,\n",
       " 30,\n",
       " 31,\n",
       " 32,\n",
       " 33,\n",
       " 34,\n",
       " 35,\n",
       " 36,\n",
       " 37,\n",
       " 38,\n",
       " 39,\n",
       " 40,\n",
       " 41,\n",
       " 42,\n",
       " 43,\n",
       " 44,\n",
       " 45,\n",
       " 46,\n",
       " 47,\n",
       " 48,\n",
       " 49,\n",
       " 50,\n",
       " 51,\n",
       " 52,\n",
       " 53,\n",
       " 54,\n",
       " 55,\n",
       " 56,\n",
       " 57,\n",
       " 58,\n",
       " 59,\n",
       " 60,\n",
       " 61,\n",
       " 62,\n",
       " 63,\n",
       " 64,\n",
       " 65,\n",
       " 66,\n",
       " 67,\n",
       " 68,\n",
       " 69,\n",
       " 70,\n",
       " 71,\n",
       " 72,\n",
       " 73,\n",
       " 74,\n",
       " 75,\n",
       " 76,\n",
       " 77,\n",
       " 78,\n",
       " 79,\n",
       " 80,\n",
       " 81,\n",
       " 82,\n",
       " 83,\n",
       " 84,\n",
       " 85,\n",
       " 86,\n",
       " 87,\n",
       " 88,\n",
       " 89,\n",
       " 90,\n",
       " 91,\n",
       " 92,\n",
       " 93,\n",
       " 94,\n",
       " 95,\n",
       " 96,\n",
       " 97,\n",
       " 98,\n",
       " 99,\n",
       " 100,\n",
       " 101,\n",
       " 102,\n",
       " 103,\n",
       " 104,\n",
       " 105,\n",
       " 106,\n",
       " 107,\n",
       " 108,\n",
       " 109,\n",
       " 110,\n",
       " 111,\n",
       " 112,\n",
       " 113,\n",
       " 114,\n",
       " 115,\n",
       " 116,\n",
       " 117,\n",
       " 118,\n",
       " 119,\n",
       " 120,\n",
       " 121,\n",
       " 122,\n",
       " 123,\n",
       " 124,\n",
       " 125,\n",
       " 126,\n",
       " 127,\n",
       " 128,\n",
       " 129,\n",
       " 130,\n",
       " 131,\n",
       " 132,\n",
       " 133,\n",
       " 134,\n",
       " 135,\n",
       " 136,\n",
       " 137,\n",
       " 138,\n",
       " 139,\n",
       " 140,\n",
       " 141,\n",
       " 142,\n",
       " 143,\n",
       " 144,\n",
       " 145,\n",
       " 146,\n",
       " 147,\n",
       " 148,\n",
       " 149,\n",
       " 150,\n",
       " 151,\n",
       " 152,\n",
       " 153,\n",
       " 154,\n",
       " 155,\n",
       " 156,\n",
       " 157,\n",
       " 158,\n",
       " 159,\n",
       " 160,\n",
       " 161,\n",
       " 162,\n",
       " 163,\n",
       " 164,\n",
       " 165,\n",
       " 166,\n",
       " 167,\n",
       " 168,\n",
       " 169,\n",
       " 170,\n",
       " 171,\n",
       " 172,\n",
       " 173,\n",
       " 174,\n",
       " 175,\n",
       " 176,\n",
       " 177,\n",
       " 178,\n",
       " 179,\n",
       " 180,\n",
       " 181,\n",
       " 182,\n",
       " 183,\n",
       " 184,\n",
       " 185,\n",
       " 186,\n",
       " 187,\n",
       " 188,\n",
       " 189,\n",
       " 190,\n",
       " 191,\n",
       " 192,\n",
       " 193,\n",
       " 194,\n",
       " 195,\n",
       " 196,\n",
       " 197,\n",
       " 198,\n",
       " 199,\n",
       " 200,\n",
       " 201,\n",
       " 202,\n",
       " 203,\n",
       " 204,\n",
       " 205,\n",
       " 206,\n",
       " 207,\n",
       " 208,\n",
       " 209,\n",
       " 210,\n",
       " 211,\n",
       " 212,\n",
       " 213,\n",
       " 214,\n",
       " 215,\n",
       " 216,\n",
       " 217,\n",
       " 218,\n",
       " 219,\n",
       " 220,\n",
       " 221,\n",
       " 222,\n",
       " 223,\n",
       " 224,\n",
       " 225,\n",
       " 226,\n",
       " 227,\n",
       " 228,\n",
       " 229,\n",
       " 230,\n",
       " 231,\n",
       " 232,\n",
       " 233,\n",
       " 234,\n",
       " 235,\n",
       " 236,\n",
       " 237,\n",
       " 238,\n",
       " 239,\n",
       " 240,\n",
       " 241,\n",
       " 242,\n",
       " 243,\n",
       " 244,\n",
       " 245,\n",
       " 246,\n",
       " 247,\n",
       " 248,\n",
       " 249,\n",
       " 250,\n",
       " 251,\n",
       " 252,\n",
       " 253,\n",
       " 254,\n",
       " 255,\n",
       " 256,\n",
       " 257,\n",
       " 258,\n",
       " 259,\n",
       " 260,\n",
       " 261,\n",
       " 262,\n",
       " 263,\n",
       " 264,\n",
       " 265,\n",
       " 266,\n",
       " 267,\n",
       " 268,\n",
       " 269,\n",
       " 270,\n",
       " 271,\n",
       " 272,\n",
       " 273,\n",
       " 274,\n",
       " 275,\n",
       " 276,\n",
       " 277,\n",
       " 278,\n",
       " 279,\n",
       " 280,\n",
       " 281,\n",
       " 282,\n",
       " 283,\n",
       " 284,\n",
       " 285,\n",
       " 286,\n",
       " 287,\n",
       " 288,\n",
       " 289,\n",
       " 290,\n",
       " 291,\n",
       " 292,\n",
       " 293,\n",
       " 294,\n",
       " 295,\n",
       " 296,\n",
       " 297,\n",
       " 298,\n",
       " 299,\n",
       " 300,\n",
       " 301,\n",
       " 302,\n",
       " 303,\n",
       " 304,\n",
       " 305,\n",
       " 306,\n",
       " 307,\n",
       " 308,\n",
       " 309,\n",
       " 310,\n",
       " 311,\n",
       " 312,\n",
       " 313,\n",
       " 314,\n",
       " 315,\n",
       " 316,\n",
       " 317,\n",
       " 318,\n",
       " 319,\n",
       " 320,\n",
       " 321,\n",
       " 322,\n",
       " 323,\n",
       " 324,\n",
       " 325,\n",
       " 326,\n",
       " 327,\n",
       " 328,\n",
       " 329,\n",
       " 330,\n",
       " 331,\n",
       " 332,\n",
       " 333,\n",
       " 334,\n",
       " 335,\n",
       " 336,\n",
       " 337,\n",
       " 338,\n",
       " 339,\n",
       " 340,\n",
       " 341,\n",
       " 342,\n",
       " 343,\n",
       " 344,\n",
       " 345,\n",
       " 346,\n",
       " 347,\n",
       " 348,\n",
       " 349,\n",
       " 350,\n",
       " 351,\n",
       " 352,\n",
       " 353,\n",
       " 354,\n",
       " 355,\n",
       " 356,\n",
       " 357,\n",
       " 358,\n",
       " 359,\n",
       " 360,\n",
       " 361,\n",
       " 362,\n",
       " 363,\n",
       " 364,\n",
       " 365,\n",
       " 366,\n",
       " 367,\n",
       " 368,\n",
       " 369,\n",
       " 370,\n",
       " 371,\n",
       " 372,\n",
       " 373,\n",
       " 374,\n",
       " 375,\n",
       " 376,\n",
       " 377,\n",
       " 378,\n",
       " 379,\n",
       " 380,\n",
       " 381,\n",
       " 382,\n",
       " 383,\n",
       " 384,\n",
       " 385,\n",
       " 386,\n",
       " 387,\n",
       " 388,\n",
       " 389,\n",
       " 390,\n",
       " 391,\n",
       " 392,\n",
       " 393,\n",
       " 394,\n",
       " 395,\n",
       " 396,\n",
       " 397,\n",
       " 398,\n",
       " 399,\n",
       " 400,\n",
       " 401,\n",
       " 402,\n",
       " 403,\n",
       " 404,\n",
       " 405,\n",
       " 406,\n",
       " 407,\n",
       " 408,\n",
       " 409,\n",
       " 410,\n",
       " 411,\n",
       " 412,\n",
       " 413,\n",
       " 414,\n",
       " 415,\n",
       " 416,\n",
       " 417,\n",
       " 418,\n",
       " 419,\n",
       " 420,\n",
       " 421,\n",
       " 422,\n",
       " 423,\n",
       " 424,\n",
       " 425,\n",
       " 426,\n",
       " 427,\n",
       " 428,\n",
       " 429,\n",
       " 430,\n",
       " 431,\n",
       " 432,\n",
       " 433,\n",
       " 434,\n",
       " 435,\n",
       " 436,\n",
       " 437,\n",
       " 438,\n",
       " 439,\n",
       " 440,\n",
       " 441,\n",
       " 442,\n",
       " 443,\n",
       " 444,\n",
       " 445,\n",
       " 446,\n",
       " 447,\n",
       " 448,\n",
       " 449,\n",
       " 450,\n",
       " 451,\n",
       " 452,\n",
       " 453,\n",
       " 454,\n",
       " 455,\n",
       " 456,\n",
       " 457,\n",
       " 458,\n",
       " 459,\n",
       " 460,\n",
       " 461,\n",
       " 462,\n",
       " 463,\n",
       " 464,\n",
       " 465,\n",
       " 466,\n",
       " 467,\n",
       " 468,\n",
       " 469,\n",
       " 470,\n",
       " 471,\n",
       " 472,\n",
       " 473,\n",
       " 474,\n",
       " 475,\n",
       " 476,\n",
       " 477,\n",
       " 478,\n",
       " 479,\n",
       " 480,\n",
       " 481,\n",
       " 482,\n",
       " 483,\n",
       " 484,\n",
       " 485,\n",
       " 486,\n",
       " 487,\n",
       " 488,\n",
       " 489,\n",
       " 490,\n",
       " 491,\n",
       " 492,\n",
       " 493,\n",
       " 494,\n",
       " 495,\n",
       " 496,\n",
       " 497,\n",
       " 498,\n",
       " 499)"
      ]
     },
     "execution_count": 64,
     "metadata": {},
     "output_type": "execute_result"
    }
   ],
   "source": [
    "tuple(range(5,500))"
   ]
  },
  {
   "cell_type": "code",
   "execution_count": 66,
   "id": "17719a62-4344-4b8e-bdad-58f51e6df7b0",
   "metadata": {},
   "outputs": [
    {
     "data": {
      "text/plain": [
       "(5, 105, 205, 305, 405)"
      ]
     },
     "execution_count": 66,
     "metadata": {},
     "output_type": "execute_result"
    }
   ],
   "source": [
    "tuple(range(5,500,100))"
   ]
  },
  {
   "cell_type": "code",
   "execution_count": 68,
   "id": "8e7a8561-5bbe-4295-ae55-4d77fd4cb265",
   "metadata": {},
   "outputs": [
    {
     "data": {
      "text/plain": [
       "(5, 105, 205, 305, 405, 505)"
      ]
     },
     "execution_count": 68,
     "metadata": {},
     "output_type": "execute_result"
    }
   ],
   "source": [
    "tuple(range(5,506,100))"
   ]
  },
  {
   "cell_type": "code",
   "execution_count": 70,
   "id": "53b2a2f8-9678-413e-a507-52310b2d775a",
   "metadata": {},
   "outputs": [
    {
     "data": {
      "text/plain": [
       "(-10, -9, -8, -7, -6, -5, -4, -3, -2, -1, 0)"
      ]
     },
     "execution_count": 70,
     "metadata": {},
     "output_type": "execute_result"
    }
   ],
   "source": [
    "tuple(range(-10,1))"
   ]
  },
  {
   "cell_type": "code",
   "execution_count": 72,
   "id": "0bf56bca-2d6f-46e1-8302-ba3731af1985",
   "metadata": {},
   "outputs": [
    {
     "data": {
      "text/plain": [
       "[-10, -9, -8, -7, -6, -5, -4, -3, -2, -1, 0]"
      ]
     },
     "execution_count": 72,
     "metadata": {},
     "output_type": "execute_result"
    }
   ],
   "source": [
    "list(range(-10,1))"
   ]
  },
  {
   "cell_type": "code",
   "execution_count": 74,
   "id": "dee7e927-16b4-4c59-bf53-055cffb61e0c",
   "metadata": {},
   "outputs": [
    {
     "data": {
      "text/plain": [
       "range(-1, 10)"
      ]
     },
     "execution_count": 74,
     "metadata": {},
     "output_type": "execute_result"
    }
   ],
   "source": [
    "(range(-1,-10))"
   ]
  },
  {
   "cell_type": "code",
   "execution_count": 76,
   "id": "d9b5c85a-4621-4b34-af9a-c1591d8d4fe6",
   "metadata": {},
   "outputs": [
    {
     "data": {
      "text/plain": [
       "(-1, -2, -3, -4, -5, -6, -7, -8, -9)"
      ]
     },
     "execution_count": 76,
     "metadata": {},
     "output_type": "execute_result"
    }
   ],
   "source": [
    "tuple(range(-1,-10,-1))"
   ]
  },
  {
   "cell_type": "code",
   "execution_count": 78,
   "id": "59ca1f36-4569-4424-a6e8-0cdfd6eb7f0b",
   "metadata": {},
   "outputs": [
    {
     "data": {
      "text/plain": [
       "(-1, -3, -5, -7, -9)"
      ]
     },
     "execution_count": 78,
     "metadata": {},
     "output_type": "execute_result"
    }
   ],
   "source": [
    "tuple(range(-1,-10,-2))"
   ]
  },
  {
   "cell_type": "code",
   "execution_count": 80,
   "id": "b841c92d-d4ef-421c-bf20-eece8639bbda",
   "metadata": {},
   "outputs": [
    {
     "data": {
      "text/plain": [
       "(10, 8, 6, 4, 2, 0, -2, -4, -6, -8)"
      ]
     },
     "execution_count": 80,
     "metadata": {},
     "output_type": "execute_result"
    }
   ],
   "source": [
    "tuple(range(10,-10,-2))"
   ]
  },
  {
   "cell_type": "code",
   "execution_count": 82,
   "id": "e8968317-71d3-4e49-b0c9-5d982d7b779a",
   "metadata": {},
   "outputs": [
    {
     "data": {
      "text/plain": [
       "[2.5, 3, 3.5, 4, 4.5]"
      ]
     },
     "execution_count": 82,
     "metadata": {},
     "output_type": "execute_result"
    }
   ],
   "source": [
    "q=[2.5,3,3.5,4,4.5,]\n",
    "q"
   ]
  },
  {
   "cell_type": "code",
   "execution_count": 88,
   "id": "dacb3f39-c90e-41bc-9f30-d8367f69c02b",
   "metadata": {},
   "outputs": [
    {
     "data": {
      "text/plain": [
       "array([2.5, 3. , 3.5, 4. , 4.5])"
      ]
     },
     "execution_count": 88,
     "metadata": {},
     "output_type": "execute_result"
    }
   ],
   "source": [
    "np.arange(2.5,5,0.5)"
   ]
  },
  {
   "cell_type": "code",
   "execution_count": 90,
   "id": "27210966-a2f4-4e9a-8238-38a7696a5f64",
   "metadata": {},
   "outputs": [
    {
     "data": {
      "text/plain": [
       "range(5, 50, 5)"
      ]
     },
     "execution_count": 90,
     "metadata": {},
     "output_type": "execute_result"
    }
   ],
   "source": [
    "range(5,50,5)"
   ]
  },
  {
   "cell_type": "code",
   "execution_count": 94,
   "id": "d60255ac-a6fb-42f1-830a-7c455657805c",
   "metadata": {},
   "outputs": [
    {
     "name": "stdout",
     "output_type": "stream",
     "text": [
      "Data 5\n",
      "Data 10\n",
      "Data 15\n",
      "Data 20\n",
      "Data 25\n",
      "Data 30\n",
      "Data 35\n",
      "Data 40\n",
      "Data 45\n"
     ]
    }
   ],
   "source": [
    "for i in range(5,50,5):\n",
    "  print(\"Data\",i)"
   ]
  },
  {
   "cell_type": "code",
   "execution_count": 96,
   "id": "a25398c2-3310-479e-a38d-9f48fd1d0249",
   "metadata": {},
   "outputs": [
    {
     "data": {
      "text/plain": [
       "[5, 87, 23, 46, 62, 84, 80, 45, 77, 33, 80]"
      ]
     },
     "execution_count": 96,
     "metadata": {},
     "output_type": "execute_result"
    }
   ],
   "source": [
    "j=[5,87,23,46,62,84,80,45,77,33,80]\n",
    "j"
   ]
  },
  {
   "cell_type": "code",
   "execution_count": 98,
   "id": "dbdf03d6-c213-411e-ac36-29261b75bd1f",
   "metadata": {},
   "outputs": [],
   "source": [
    "y=[]\n",
    "x=[]\n",
    "for i in range(len(j)):\n",
    "    if i%2==0:\n",
    "        x.append(j[i])\n",
    "    else:\n",
    "        y.append(j[i])"
   ]
  },
  {
   "cell_type": "code",
   "execution_count": 100,
   "id": "8b7ffbc2-fadd-4151-afba-a7786739dc70",
   "metadata": {},
   "outputs": [
    {
     "data": {
      "text/plain": [
       "[5, 23, 62, 80, 77, 80]"
      ]
     },
     "execution_count": 100,
     "metadata": {},
     "output_type": "execute_result"
    }
   ],
   "source": [
    "x"
   ]
  },
  {
   "cell_type": "code",
   "execution_count": 102,
   "id": "3f485acb-2876-480e-9350-c53ce2dd4cf1",
   "metadata": {},
   "outputs": [
    {
     "data": {
      "text/plain": [
       "[87, 46, 84, 45, 33]"
      ]
     },
     "execution_count": 102,
     "metadata": {},
     "output_type": "execute_result"
    }
   ],
   "source": [
    "y"
   ]
  },
  {
   "cell_type": "code",
   "execution_count": 104,
   "id": "a156029a-021e-413b-a4bf-f6313885c427",
   "metadata": {},
   "outputs": [
    {
     "name": "stdout",
     "output_type": "stream",
     "text": [
      "[5, 87, 23, 46, 62, 84, 80, 45, 77, 33, 80]\n",
      "[5, 87, 23, 46, 62, 84, 80, 45, 77, 33, 80]\n",
      "[5, 87, 23, 46, 62, 84, 80, 45, 77, 33, 80]\n",
      "[5, 87, 23, 46, 62, 84, 80, 45, 77, 33, 80]\n",
      "[5, 87, 23, 46, 62, 84, 80, 45, 77, 33, 80]\n",
      "[5, 87, 23, 46, 62, 84, 80, 45, 77, 33, 80]\n",
      "[5, 87, 23, 46, 62, 84, 80, 45, 77, 33, 80]\n",
      "[5, 87, 23, 46, 62, 84, 80, 45, 77, 33, 80]\n",
      "[5, 87, 23, 46, 62, 84, 80, 45, 77, 33, 80]\n",
      "[5, 87, 23, 46, 62, 84, 80, 45, 77, 33, 80]\n",
      "[5, 87, 23, 46, 62, 84, 80, 45, 77, 33, 80]\n"
     ]
    }
   ],
   "source": [
    "for i in j:\n",
    "    print(j)"
   ]
  },
  {
   "cell_type": "code",
   "execution_count": 106,
   "id": "8c56af13-783b-40df-896f-162d24aa886d",
   "metadata": {},
   "outputs": [
    {
     "name": "stdout",
     "output_type": "stream",
     "text": [
      "5\n",
      "87\n",
      "23\n",
      "46\n",
      "62\n",
      "84\n",
      "80\n",
      "45\n",
      "77\n",
      "33\n",
      "80\n"
     ]
    }
   ],
   "source": [
    "for i in j:\n",
    "    print(i)"
   ]
  },
  {
   "cell_type": "code",
   "execution_count": 108,
   "id": "6551a5e2-0f5a-4a40-b538-3d4a447e1852",
   "metadata": {},
   "outputs": [
    {
     "data": {
      "text/plain": [
       "range(0, 11)"
      ]
     },
     "execution_count": 108,
     "metadata": {},
     "output_type": "execute_result"
    }
   ],
   "source": [
    "range(len(j))"
   ]
  },
  {
   "cell_type": "code",
   "execution_count": 110,
   "id": "3fae340d-0975-4f64-a81b-9192b556d854",
   "metadata": {},
   "outputs": [
    {
     "data": {
      "text/plain": [
       "[5, 87, 23, 46, 62, 84, 80, 45, 77, 33, 80]"
      ]
     },
     "execution_count": 110,
     "metadata": {},
     "output_type": "execute_result"
    }
   ],
   "source": [
    "j"
   ]
  },
  {
   "cell_type": "code",
   "execution_count": 118,
   "id": "f8f71fa1-06a2-4020-baa7-5dd94104f0fc",
   "metadata": {},
   "outputs": [
    {
     "name": "stdout",
     "output_type": "stream",
     "text": [
      "0\n",
      "1\n",
      "2\n",
      "3\n",
      "4\n",
      "5\n",
      "6\n",
      "7\n",
      "8\n",
      "9\n",
      "10\n"
     ]
    }
   ],
   "source": [
    "for i in range(len(j)):\n",
    "            print(i)"
   ]
  },
  {
   "cell_type": "code",
   "execution_count": null,
   "id": "f930b869-80fd-4076-8bb7-8662596c1564",
   "metadata": {},
   "outputs": [],
   "source": []
  }
 ],
 "metadata": {
  "kernelspec": {
   "display_name": "Python [conda env:base] *",
   "language": "python",
   "name": "conda-base-py"
  },
  "language_info": {
   "codemirror_mode": {
    "name": "ipython",
    "version": 3
   },
   "file_extension": ".py",
   "mimetype": "text/x-python",
   "name": "python",
   "nbconvert_exporter": "python",
   "pygments_lexer": "ipython3",
   "version": "3.12.7"
  }
 },
 "nbformat": 4,
 "nbformat_minor": 5
}
