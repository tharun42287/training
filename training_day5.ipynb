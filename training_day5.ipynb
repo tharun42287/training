{
 "cells": [
  {
   "cell_type": "code",
   "execution_count": 2,
   "id": "d5130798-30aa-425b-bfb0-6f996730eba6",
   "metadata": {},
   "outputs": [
    {
     "data": {
      "text/plain": [
       "{'a': 2, 'b': 32, 'c': 87}"
      ]
     },
     "execution_count": 2,
     "metadata": {},
     "output_type": "execute_result"
    }
   ],
   "source": [
    "k = {'a' : 2, 'b' : 32, 'c' : 87}\n",
    "k"
   ]
  },
  {
   "cell_type": "code",
   "execution_count": 3,
   "id": "ae029f2d-eb46-45b1-954d-5dd42e99e4bd",
   "metadata": {},
   "outputs": [
    {
     "data": {
      "text/plain": [
       "dict"
      ]
     },
     "execution_count": 3,
     "metadata": {},
     "output_type": "execute_result"
    }
   ],
   "source": [
    "type(k)"
   ]
  },
  {
   "cell_type": "code",
   "execution_count": 4,
   "id": "319649e2-c208-49c6-a509-617a6f954985",
   "metadata": {},
   "outputs": [
    {
     "data": {
      "text/plain": [
       "32"
      ]
     },
     "execution_count": 4,
     "metadata": {},
     "output_type": "execute_result"
    }
   ],
   "source": [
    "k['b']"
   ]
  },
  {
   "cell_type": "code",
   "execution_count": 2,
   "id": "848f9f99-7ced-423f-9cd0-e877cf045ec6",
   "metadata": {},
   "outputs": [
    {
     "data": {
      "text/plain": [
       "{'a': 2, 'b': 32, 'c': 87}"
      ]
     },
     "execution_count": 2,
     "metadata": {},
     "output_type": "execute_result"
    }
   ],
   "source": [
    "k = {'a' : 2, 'b' : 32, 'c' : 87}\n",
    "k"
   ]
  },
  {
   "cell_type": "code",
   "execution_count": 3,
   "id": "942e2774-3554-4c20-9504-6d4a88705da0",
   "metadata": {},
   "outputs": [
    {
     "data": {
      "text/plain": [
       "{'a': 2, 'b': 32, 'c': 87, 'd': 43}"
      ]
     },
     "execution_count": 3,
     "metadata": {},
     "output_type": "execute_result"
    }
   ],
   "source": [
    "k.update({'d':43})\n",
    "k"
   ]
  },
  {
   "cell_type": "code",
   "execution_count": 4,
   "id": "6a7c713a-abae-4d56-90b4-1a5a3feb8741",
   "metadata": {},
   "outputs": [
    {
     "data": {
      "text/plain": [
       "43"
      ]
     },
     "execution_count": 4,
     "metadata": {},
     "output_type": "execute_result"
    }
   ],
   "source": [
    "k.get('d')"
   ]
  },
  {
   "cell_type": "code",
   "execution_count": 5,
   "id": "8bfe67af-8c1b-4913-ad57-f6528710c491",
   "metadata": {},
   "outputs": [
    {
     "data": {
      "text/plain": [
       "{12: 46, 13: 57, 14: 78, 15: 98}"
      ]
     },
     "execution_count": 5,
     "metadata": {},
     "output_type": "execute_result"
    }
   ],
   "source": [
    "#dictionary does not allow duplicate keys but allows duplicate values\n",
    "d = {12:46,13:57,14:78,15:98}\n",
    "d"
   ]
  },
  {
   "cell_type": "code",
   "execution_count": 6,
   "id": "18248686-eb22-496c-84d0-20b253574e91",
   "metadata": {},
   "outputs": [
    {
     "data": {
      "text/plain": [
       "78"
      ]
     },
     "execution_count": 6,
     "metadata": {},
     "output_type": "execute_result"
    }
   ],
   "source": [
    "d[14]"
   ]
  },
  {
   "cell_type": "code",
   "execution_count": 7,
   "id": "fdb60da3-1ea8-4d6f-b096-349355e6dbd6",
   "metadata": {},
   "outputs": [
    {
     "data": {
      "text/plain": [
       "46"
      ]
     },
     "execution_count": 7,
     "metadata": {},
     "output_type": "execute_result"
    }
   ],
   "source": [
    "d.get(12)"
   ]
  },
  {
   "cell_type": "code",
   "execution_count": 10,
   "id": "ff528caa-6033-4936-b1cc-a65eea7b6389",
   "metadata": {},
   "outputs": [
    {
     "data": {
      "text/plain": [
       "{12: 46, 13: 57, 14: 78, 15: 42}"
      ]
     },
     "execution_count": 10,
     "metadata": {},
     "output_type": "execute_result"
    }
   ],
   "source": [
    "d.update({15:42})\n",
    "d"
   ]
  },
  {
   "cell_type": "code",
   "execution_count": 11,
   "id": "00f8a78d-0537-44a6-9e59-ae412a2b1233",
   "metadata": {},
   "outputs": [
    {
     "data": {
      "text/plain": [
       "{12: 46, 13: 57, 14: 78, 15: 42, 17: 49}"
      ]
     },
     "execution_count": 11,
     "metadata": {},
     "output_type": "execute_result"
    }
   ],
   "source": [
    "d[17]=49\n",
    "d"
   ]
  },
  {
   "cell_type": "code",
   "execution_count": 14,
   "id": "2ba5d3d8-f27b-45c1-aa53-a104959e7ff7",
   "metadata": {},
   "outputs": [
    {
     "data": {
      "text/plain": [
       "{12: 46, 13: 57, 14: 78, 15: 42, 17: 49, 18: [34, 56, 96, 89]}"
      ]
     },
     "execution_count": 14,
     "metadata": {},
     "output_type": "execute_result"
    }
   ],
   "source": [
    "d[18]=[34, 56, 96, 89]\n",
    "d"
   ]
  },
  {
   "cell_type": "code",
   "execution_count": 15,
   "id": "f79b54df-1157-4294-9634-376d2d42c9be",
   "metadata": {},
   "outputs": [
    {
     "data": {
      "text/plain": [
       "[34, 56, 96, 89]"
      ]
     },
     "execution_count": 15,
     "metadata": {},
     "output_type": "execute_result"
    }
   ],
   "source": [
    "d[18]"
   ]
  },
  {
   "cell_type": "code",
   "execution_count": 16,
   "id": "49cf2dd8-80a1-4984-b7a7-7260f4d01bf2",
   "metadata": {},
   "outputs": [
    {
     "data": {
      "text/plain": [
       "list"
      ]
     },
     "execution_count": 16,
     "metadata": {},
     "output_type": "execute_result"
    }
   ],
   "source": [
    "type(d[18])"
   ]
  },
  {
   "cell_type": "code",
   "execution_count": 18,
   "id": "3f7a3344-93c2-4d79-93c6-795749c28afb",
   "metadata": {},
   "outputs": [
    {
     "data": {
      "text/plain": [
       "{12: 46, 13: 57, 14: 78, 15: 42, 17: 49, 18: [34, 56, 96, 89, 63, 63]}"
      ]
     },
     "execution_count": 18,
     "metadata": {},
     "output_type": "execute_result"
    }
   ],
   "source": [
    "#append function is used when there is list only\n",
    "d[18].append(63)\n",
    "d"
   ]
  },
  {
   "cell_type": "code",
   "execution_count": 19,
   "id": "ab6855d1-2dea-44a1-abcd-d66cc4716568",
   "metadata": {},
   "outputs": [
    {
     "data": {
      "text/plain": [
       "{12: 46,\n",
       " 13: 57,\n",
       " 14: 78,\n",
       " 15: 42,\n",
       " 17: 49,\n",
       " 18: [34, 56, 96, 89, 63, 63],\n",
       " 19: (10, 9, 8, 7)}"
      ]
     },
     "execution_count": 19,
     "metadata": {},
     "output_type": "execute_result"
    }
   ],
   "source": [
    "d[19] = (10, 9, 8, 7)\n",
    "d"
   ]
  },
  {
   "cell_type": "code",
   "execution_count": 21,
   "id": "33f51048-fabb-4b17-943d-110c82e71f80",
   "metadata": {},
   "outputs": [
    {
     "ename": "AttributeError",
     "evalue": "'tuple' object has no attribute 'append'",
     "output_type": "error",
     "traceback": [
      "\u001b[1;31m---------------------------------------------------------------------------\u001b[0m",
      "\u001b[1;31mAttributeError\u001b[0m                            Traceback (most recent call last)",
      "Cell \u001b[1;32mIn[21], line 1\u001b[0m\n\u001b[1;32m----> 1\u001b[0m d[\u001b[38;5;241m19\u001b[39m]\u001b[38;5;241m.\u001b[39mappend(\u001b[38;5;241m30\u001b[39m)\n",
      "\u001b[1;31mAttributeError\u001b[0m: 'tuple' object has no attribute 'append'"
     ]
    }
   ],
   "source": [
    "#we cannot use append for tuple\n",
    "d[19].append(30)"
   ]
  },
  {
   "cell_type": "code",
   "execution_count": 33,
   "id": "b8293046-5e8e-49d6-be95-3df5d29be065",
   "metadata": {},
   "outputs": [
    {
     "data": {
      "text/plain": [
       "{12: 46,\n",
       " 13: 57,\n",
       " 14: 78,\n",
       " 15: 42,\n",
       " 17: 49,\n",
       " 18: [34, 56, 96, 89, 63, 63],\n",
       " 19: (10, 9, 8, 7),\n",
       " 20: {60: [1, 2, 3, 4], 1: (100, 200, 300, 400)},\n",
       " 21: {'x': {700, 800, 900},\n",
       "  'y': (100100, 1234, 23456),\n",
       "  'z': ['l', {'q': [12344, 6789], 'p': (890, 0)}, 'h']},\n",
       " 's': {60: [1, 2, 3, 4], 't': (100, 200, 300, 400)}}"
      ]
     },
     "execution_count": 33,
     "metadata": {},
     "output_type": "execute_result"
    }
   ],
   "source": [
    "d['s']={60:[1,2,3,4],'t':(100,200,300,400)}\n",
    "d"
   ]
  },
  {
   "cell_type": "code",
   "execution_count": 34,
   "id": "e8a063c7-8c26-4f7f-82a4-ebb85b44b1c7",
   "metadata": {},
   "outputs": [
    {
     "data": {
      "text/plain": [
       "{12: 46,\n",
       " 13: 57,\n",
       " 14: 78,\n",
       " 15: 42,\n",
       " 17: 49,\n",
       " 18: [34, 56, 96, 89, 63, 63],\n",
       " 19: (10, 9, 8, 7),\n",
       " 20: {60: [1, 2, 3, 4], 1: (100, 200, 300, 400)},\n",
       " 21: {'x': {700, 800, 900},\n",
       "  'y': (100100, 1234, 23456),\n",
       "  'z': ['l', {'q': [12344, 6789], 'p': (890, 0)}, 'h']},\n",
       " 's': {60: [1, 2, 3, 4], 't': (100, 200, 300, 400)}}"
      ]
     },
     "execution_count": 34,
     "metadata": {},
     "output_type": "execute_result"
    }
   ],
   "source": [
    "d[21]={'x':{700,800,900},'y':(100100,1234,23456),'z':['l',{'q':[12344,6789],'p':(890,000)},'h']}\n",
    "d"
   ]
  },
  {
   "cell_type": "code",
   "execution_count": 36,
   "id": "e02ecdf6-c879-4233-9280-d8bb6e7c27f5",
   "metadata": {},
   "outputs": [
    {
     "data": {
      "text/plain": [
       "{'x': {700, 800, 900},\n",
       " 'y': (100100, 1234, 23456),\n",
       " 'z': ['l', {'q': [12344, 6789], 'p': (890, 0)}, 'h']}"
      ]
     },
     "execution_count": 36,
     "metadata": {},
     "output_type": "execute_result"
    }
   ],
   "source": [
    "d[21]"
   ]
  },
  {
   "cell_type": "code",
   "execution_count": 38,
   "id": "ad221b51-db8e-4435-af0b-e8a86e47b24e",
   "metadata": {},
   "outputs": [
    {
     "data": {
      "text/plain": [
       "300"
      ]
     },
     "execution_count": 38,
     "metadata": {},
     "output_type": "execute_result"
    }
   ],
   "source": [
    "d[20][1][2]"
   ]
  },
  {
   "cell_type": "code",
   "execution_count": null,
   "id": "e9216826-4749-4c97-9365-2f34035722fb",
   "metadata": {},
   "outputs": [],
   "source": [
    "d[21]['s']"
   ]
  }
 ],
 "metadata": {
  "kernelspec": {
   "display_name": "Python 3 (ipykernel)",
   "language": "python",
   "name": "python3"
  },
  "language_info": {
   "codemirror_mode": {
    "name": "ipython",
    "version": 3
   },
   "file_extension": ".py",
   "mimetype": "text/x-python",
   "name": "python",
   "nbconvert_exporter": "python",
   "pygments_lexer": "ipython3",
   "version": "3.12.7"
  }
 },
 "nbformat": 4,
 "nbformat_minor": 5
}
