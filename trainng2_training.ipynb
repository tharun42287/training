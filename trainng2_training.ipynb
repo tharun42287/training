{
  "nbformat": 4,
  "nbformat_minor": 0,
  "metadata": {
    "colab": {
      "provenance": [],
      "authorship_tag": "ABX9TyOZyW3lkuqw+yvTixMHrxIY",
      "include_colab_link": true
    },
    "kernelspec": {
      "name": "python3",
      "display_name": "Python 3"
    },
    "language_info": {
      "name": "python"
    }
  },
  "cells": [
    {
      "cell_type": "markdown",
      "metadata": {
        "id": "view-in-github",
        "colab_type": "text"
      },
      "source": [
        "<a href=\"https://colab.research.google.com/github/Ilapuramkruthikasaisree/training_codes/blob/main/trainng2_training.ipynb\" target=\"_parent\"><img src=\"https://colab.research.google.com/assets/colab-badge.svg\" alt=\"Open In Colab\"/></a>"
      ]
    },
    {
      "cell_type": "code",
      "execution_count": 1,
      "metadata": {
        "colab": {
          "base_uri": "https://localhost:8080/"
        },
        "id": "aEi5RgYDBoNH",
        "outputId": "4107c3a7-c80b-4650-8651-4633be939f42"
      },
      "outputs": [
        {
          "output_type": "stream",
          "name": "stdout",
          "text": [
            "[25, 6, 8]\n"
          ]
        }
      ],
      "source": [
        "mylist = [25,6,8]\n",
        "print(mylist)"
      ]
    },
    {
      "cell_type": "code",
      "source": [
        "x=['kruthika',567,True,False,234]\n",
        "x"
      ],
      "metadata": {
        "colab": {
          "base_uri": "https://localhost:8080/"
        },
        "id": "MMWp2P04DKrw",
        "outputId": "8b8c526c-cbb0-4bb6-a5b3-b5bb205b500a"
      },
      "execution_count": 2,
      "outputs": [
        {
          "output_type": "execute_result",
          "data": {
            "text/plain": [
              "['kruthika', 567, True, False, 234]"
            ]
          },
          "metadata": {},
          "execution_count": 2
        }
      ]
    },
    {
      "cell_type": "code",
      "source": [
        "x[1:3]"
      ],
      "metadata": {
        "colab": {
          "base_uri": "https://localhost:8080/"
        },
        "id": "SS_dEEqwESQG",
        "outputId": "2ada3886-6b3c-4f40-eb18-5604b60634bc"
      },
      "execution_count": 3,
      "outputs": [
        {
          "output_type": "execute_result",
          "data": {
            "text/plain": [
              "[567, True]"
            ]
          },
          "metadata": {},
          "execution_count": 3
        }
      ]
    },
    {
      "cell_type": "code",
      "source": [
        "x[1:4:1]"
      ],
      "metadata": {
        "colab": {
          "base_uri": "https://localhost:8080/"
        },
        "id": "gkowCxDPEofW",
        "outputId": "40a563eb-5387-4053-e74d-82577c146010"
      },
      "execution_count": 5,
      "outputs": [
        {
          "output_type": "execute_result",
          "data": {
            "text/plain": [
              "[567, True, False]"
            ]
          },
          "metadata": {},
          "execution_count": 5
        }
      ]
    },
    {
      "cell_type": "code",
      "source": [
        "a=[324,False,'junsu',True,213,543,'kashmir','shiva',675]\n",
        "a"
      ],
      "metadata": {
        "colab": {
          "base_uri": "https://localhost:8080/"
        },
        "id": "JX3znwHDE681",
        "outputId": "60b52ce3-1d29-49e1-e313-eb5d63528715"
      },
      "execution_count": 7,
      "outputs": [
        {
          "output_type": "execute_result",
          "data": {
            "text/plain": [
              "[324, False, 'junsu', True, 213, 543, 'kashmir', 'shiva', 675]"
            ]
          },
          "metadata": {},
          "execution_count": 7
        }
      ]
    },
    {
      "cell_type": "code",
      "source": [
        "a[5]"
      ],
      "metadata": {
        "colab": {
          "base_uri": "https://localhost:8080/"
        },
        "id": "mg9j6fWWE7Dd",
        "outputId": "10b0fe96-e479-4eb8-bf40-d71bc2dc46da"
      },
      "execution_count": 8,
      "outputs": [
        {
          "output_type": "execute_result",
          "data": {
            "text/plain": [
              "543"
            ]
          },
          "metadata": {},
          "execution_count": 8
        }
      ]
    },
    {
      "cell_type": "code",
      "source": [
        "a[1:4:8]"
      ],
      "metadata": {
        "colab": {
          "base_uri": "https://localhost:8080/"
        },
        "id": "8B_xawPwE7JE",
        "outputId": "b7a60eda-155c-4db7-9457-7e67a994e301"
      },
      "execution_count": 12,
      "outputs": [
        {
          "output_type": "execute_result",
          "data": {
            "text/plain": [
              "[False]"
            ]
          },
          "metadata": {},
          "execution_count": 12
        }
      ]
    },
    {
      "cell_type": "code",
      "source": [
        "a[4]"
      ],
      "metadata": {
        "colab": {
          "base_uri": "https://localhost:8080/"
        },
        "id": "3HstdFgHE7ND",
        "outputId": "7bbdd159-4b1d-41f8-c904-e955f2469125"
      },
      "execution_count": 13,
      "outputs": [
        {
          "output_type": "execute_result",
          "data": {
            "text/plain": [
              "213"
            ]
          },
          "metadata": {},
          "execution_count": 13
        }
      ]
    },
    {
      "cell_type": "code",
      "source": [
        "a[1:8]"
      ],
      "metadata": {
        "colab": {
          "base_uri": "https://localhost:8080/"
        },
        "id": "x0yvOlqwE7RN",
        "outputId": "51caa8c9-a78d-4347-bf51-4c76077c9a97"
      },
      "execution_count": 14,
      "outputs": [
        {
          "output_type": "execute_result",
          "data": {
            "text/plain": [
              "[False, 'junsu', True, 213, 543, 'kashmir', 'shiva']"
            ]
          },
          "metadata": {},
          "execution_count": 14
        }
      ]
    },
    {
      "cell_type": "code",
      "source": [
        "a[1:-2]"
      ],
      "metadata": {
        "colab": {
          "base_uri": "https://localhost:8080/"
        },
        "id": "-v5k-TeKIagW",
        "outputId": "9f9b7513-bbcf-406a-c1fb-5666341656c7"
      },
      "execution_count": 15,
      "outputs": [
        {
          "output_type": "execute_result",
          "data": {
            "text/plain": [
              "[False, 'junsu', True, 213, 543, 'kashmir']"
            ]
          },
          "metadata": {},
          "execution_count": 15
        }
      ]
    },
    {
      "cell_type": "code",
      "source": [
        "a[7:-2]"
      ],
      "metadata": {
        "colab": {
          "base_uri": "https://localhost:8080/"
        },
        "id": "CfwCskmCIfc-",
        "outputId": "fdc11ad9-91ec-47fc-fb8c-8cd358610d31"
      },
      "execution_count": 16,
      "outputs": [
        {
          "output_type": "execute_result",
          "data": {
            "text/plain": [
              "[]"
            ]
          },
          "metadata": {},
          "execution_count": 16
        }
      ]
    },
    {
      "cell_type": "code",
      "source": [
        "a[2:6:3]"
      ],
      "metadata": {
        "colab": {
          "base_uri": "https://localhost:8080/"
        },
        "id": "Go7An6ViI3Ay",
        "outputId": "0d3e12c9-99ca-447a-c41d-18fa8ac7d276"
      },
      "execution_count": 20,
      "outputs": [
        {
          "output_type": "execute_result",
          "data": {
            "text/plain": [
              "['junsu', 543]"
            ]
          },
          "metadata": {},
          "execution_count": 20
        }
      ]
    },
    {
      "cell_type": "code",
      "source": [
        "len(a)#length of th list"
      ],
      "metadata": {
        "colab": {
          "base_uri": "https://localhost:8080/"
        },
        "id": "E83fqh0uKL64",
        "outputId": "1d594694-6e40-4838-8c28-f0d25e42ac09"
      },
      "execution_count": 22,
      "outputs": [
        {
          "output_type": "execute_result",
          "data": {
            "text/plain": [
              "9"
            ]
          },
          "metadata": {},
          "execution_count": 22
        }
      ]
    },
    {
      "cell_type": "code",
      "source": [
        "a.append('Pakistan')#adds elemnt at th end of the list and adds how many times we run the code\n",
        "a"
      ],
      "metadata": {
        "colab": {
          "base_uri": "https://localhost:8080/"
        },
        "id": "f7hz_MeHKbOb",
        "outputId": "bffb6b47-03e0-40b5-a0d4-964876d0719e"
      },
      "execution_count": 25,
      "outputs": [
        {
          "output_type": "execute_result",
          "data": {
            "text/plain": [
              "[324,\n",
              " False,\n",
              " 'junsu',\n",
              " True,\n",
              " 213,\n",
              " 543,\n",
              " 'kashmir',\n",
              " 'shiva',\n",
              " 675,\n",
              " 'Pakistan',\n",
              " 'Pakistan',\n",
              " 'Pakistan']"
            ]
          },
          "metadata": {},
          "execution_count": 25
        }
      ]
    },
    {
      "cell_type": "code",
      "source": [
        "a.insert(2,86)#adds value at a givn index\n",
        "a"
      ],
      "metadata": {
        "colab": {
          "base_uri": "https://localhost:8080/"
        },
        "id": "CgniVCGiKbWX",
        "outputId": "f309dda8-cf9e-4099-badb-57ce68cc193c"
      },
      "execution_count": 26,
      "outputs": [
        {
          "output_type": "execute_result",
          "data": {
            "text/plain": [
              "[324,\n",
              " False,\n",
              " 86,\n",
              " 'junsu',\n",
              " True,\n",
              " 213,\n",
              " 543,\n",
              " 'kashmir',\n",
              " 'shiva',\n",
              " 675,\n",
              " 'Pakistan',\n",
              " 'Pakistan',\n",
              " 'Pakistan']"
            ]
          },
          "metadata": {},
          "execution_count": 26
        }
      ]
    },
    {
      "cell_type": "code",
      "source": [
        "a.remove('Pakistan')#removes the element given and removes how many times we run the code\n",
        "a"
      ],
      "metadata": {
        "colab": {
          "base_uri": "https://localhost:8080/"
        },
        "id": "U87rg0GcKbbK",
        "outputId": "dc7563ed-56a7-4ca8-ed3e-f5710f8399b9"
      },
      "execution_count": 29,
      "outputs": [
        {
          "output_type": "execute_result",
          "data": {
            "text/plain": [
              "[324, False, 86, 'junsu', True, 213, 543, 'kashmir', 'shiva', 675, 'Pakistan']"
            ]
          },
          "metadata": {},
          "execution_count": 29
        }
      ]
    },
    {
      "cell_type": "code",
      "source": [
        "a.pop(6)#remove the value from the given index and returns th list\n",
        "a"
      ],
      "metadata": {
        "colab": {
          "base_uri": "https://localhost:8080/"
        },
        "id": "My2Lh3qQKbfk",
        "outputId": "54e14150-7b1e-4605-86e6-f6ae2a966e51"
      },
      "execution_count": 30,
      "outputs": [
        {
          "output_type": "execute_result",
          "data": {
            "text/plain": [
              "[324, False, 86, 'junsu', True, 213, 'kashmir', 'shiva', 675, 'Pakistan']"
            ]
          },
          "metadata": {},
          "execution_count": 30
        }
      ]
    },
    {
      "cell_type": "code",
      "source": [
        "a.pop(3)#removes the value from the given index and returns the element"
      ],
      "metadata": {
        "colab": {
          "base_uri": "https://localhost:8080/",
          "height": 36
        },
        "id": "NAYtJxquKbit",
        "outputId": "87757ce6-5f99-41ea-83e7-d87ae232fcff"
      },
      "execution_count": 31,
      "outputs": [
        {
          "output_type": "execute_result",
          "data": {
            "text/plain": [
              "'junsu'"
            ],
            "application/vnd.google.colaboratory.intrinsic+json": {
              "type": "string"
            }
          },
          "metadata": {},
          "execution_count": 31
        }
      ]
    },
    {
      "cell_type": "code",
      "source": [
        "type(a)"
      ],
      "metadata": {
        "colab": {
          "base_uri": "https://localhost:8080/"
        },
        "id": "LbOBlRiKKbmq",
        "outputId": "d9e6aa19-f8f3-4cc4-adc9-1a31754a5793"
      },
      "execution_count": 32,
      "outputs": [
        {
          "output_type": "execute_result",
          "data": {
            "text/plain": [
              "list"
            ]
          },
          "metadata": {},
          "execution_count": 32
        }
      ]
    },
    {
      "cell_type": "code",
      "source": [
        "a.count(213)#returns the number of times the element repeated"
      ],
      "metadata": {
        "colab": {
          "base_uri": "https://localhost:8080/"
        },
        "id": "p0z2t5zdMuvL",
        "outputId": "967ca580-9b5f-411b-b2f8-06ddf3ddefe6"
      },
      "execution_count": 33,
      "outputs": [
        {
          "output_type": "execute_result",
          "data": {
            "text/plain": [
              "1"
            ]
          },
          "metadata": {},
          "execution_count": 33
        }
      ]
    },
    {
      "cell_type": "code",
      "source": [
        "b=[5,1,2,3,7,5,1,]\n",
        "b.count(5)"
      ],
      "metadata": {
        "colab": {
          "base_uri": "https://localhost:8080/"
        },
        "id": "J5HGgo8_KbrL",
        "outputId": "dcd14d20-0dfb-481a-a7f0-118407258225"
      },
      "execution_count": 35,
      "outputs": [
        {
          "output_type": "execute_result",
          "data": {
            "text/plain": [
              "2"
            ]
          },
          "metadata": {},
          "execution_count": 35
        }
      ]
    },
    {
      "cell_type": "code",
      "source": [
        "a.clear()#removes all the data in the list but list remains same and empty\n",
        "a"
      ],
      "metadata": {
        "colab": {
          "base_uri": "https://localhost:8080/"
        },
        "id": "KZcLjziQNYYV",
        "outputId": "8a847d6e-894d-44dc-fd68-375d029bd3e4"
      },
      "execution_count": 37,
      "outputs": [
        {
          "output_type": "execute_result",
          "data": {
            "text/plain": [
              "[]"
            ]
          },
          "metadata": {},
          "execution_count": 37
        }
      ]
    },
    {
      "cell_type": "code",
      "source": [
        "del b#completely deletes the list and data inside the list\n"
      ],
      "metadata": {
        "colab": {
          "base_uri": "https://localhost:8080/",
          "height": 141
        },
        "id": "yA5EgqW3NYqN",
        "outputId": "894f75fb-731b-4364-cd59-7c96e86386ae"
      },
      "execution_count": 40,
      "outputs": [
        {
          "output_type": "error",
          "ename": "NameError",
          "evalue": "name 'b' is not defined",
          "traceback": [
            "\u001b[0;31m---------------------------------------------------------------------------\u001b[0m",
            "\u001b[0;31mNameError\u001b[0m                                 Traceback (most recent call last)",
            "\u001b[0;32m<ipython-input-40-ba6cf2603e83>\u001b[0m in \u001b[0;36m<cell line: 1>\u001b[0;34m()\u001b[0m\n\u001b[0;32m----> 1\u001b[0;31m \u001b[0;32mdel\u001b[0m \u001b[0mb\u001b[0m\u001b[0;31m#completely deletes the list and data inside the list\u001b[0m\u001b[0;34m\u001b[0m\u001b[0;34m\u001b[0m\u001b[0m\n\u001b[0m",
            "\u001b[0;31mNameError\u001b[0m: name 'b' is not defined"
          ]
        }
      ]
    },
    {
      "cell_type": "code",
      "source": [
        "a=[1,3,5,2,56,1,]\n",
        "b=['kruthika','anil',29,23,26,2017]\n",
        "a.extend(b)#extends one list with the other list\n",
        "a"
      ],
      "metadata": {
        "colab": {
          "base_uri": "https://localhost:8080/"
        },
        "id": "nUqgpRSiN84F",
        "outputId": "d343643e-ddd3-4831-af31-fbfb8774c470"
      },
      "execution_count": 44,
      "outputs": [
        {
          "output_type": "execute_result",
          "data": {
            "text/plain": [
              "[1, 3, 5, 2, 56, 1, 'kruthika', 'anil', 29, 23, 26, 2017]"
            ]
          },
          "metadata": {},
          "execution_count": 44
        }
      ]
    },
    {
      "cell_type": "code",
      "source": [],
      "metadata": {
        "id": "EE4qwyeFN_dd"
      },
      "execution_count": null,
      "outputs": []
    }
  ]
}