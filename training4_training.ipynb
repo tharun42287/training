{
 "cells": [
  {
   "cell_type": "code",
   "execution_count": 10,
   "id": "48b095ba-35da-4a9d-af5d-8824f901ab29",
   "metadata": {},
   "outputs": [
    {
     "data": {
      "text/plain": [
       "tuple"
      ]
     },
     "execution_count": 10,
     "metadata": {},
     "output_type": "execute_result"
    }
   ],
   "source": [
    "h = (20, 30, 40, 50)\n",
    "type(h)"
   ]
  },
  {
   "cell_type": "code",
   "execution_count": 14,
   "id": "8bd2ac8b-ea11-46d6-a812-105ef2121838",
   "metadata": {},
   "outputs": [
    {
     "data": {
      "text/plain": [
       "0"
      ]
     },
     "execution_count": 14,
     "metadata": {},
     "output_type": "execute_result"
    }
   ],
   "source": [
    "h.index(20)"
   ]
  },
  {
   "cell_type": "code",
   "execution_count": 18,
   "id": "a50baf14-dc7a-4fbf-9077-76b24f0cf9ae",
   "metadata": {},
   "outputs": [
    {
     "data": {
      "text/plain": [
       "1"
      ]
     },
     "execution_count": 18,
     "metadata": {},
     "output_type": "execute_result"
    }
   ],
   "source": [
    "h.count(30)"
   ]
  },
  {
   "cell_type": "code",
   "execution_count": 26,
   "id": "de434e51-ad8a-4f3e-97ad-e3308e321e40",
   "metadata": {},
   "outputs": [
    {
     "data": {
      "text/plain": [
       "set"
      ]
     },
     "execution_count": 26,
     "metadata": {},
     "output_type": "execute_result"
    }
   ],
   "source": [
    "s={20, 40, 56, 70, 54, 98}\n",
    "type(s)"
   ]
  },
  {
   "cell_type": "code",
   "execution_count": 30,
   "id": "7ddad5f2-3826-42b5-b9e2-5addd25890c0",
   "metadata": {},
   "outputs": [
    {
     "data": {
      "text/plain": [
       "{20, 35, 40, 54, 56, 70, 98}"
      ]
     },
     "execution_count": 30,
     "metadata": {},
     "output_type": "execute_result"
    }
   ],
   "source": [
    "s.add(35)\n",
    "s"
   ]
  },
  {
   "cell_type": "code",
   "execution_count": 32,
   "id": "3904e5b4-e826-4c95-bd23-ec0d5d027e7b",
   "metadata": {},
   "outputs": [
    {
     "data": {
      "text/plain": [
       "{20, 35, 40, 56, 70, 98}"
      ]
     },
     "execution_count": 32,
     "metadata": {},
     "output_type": "execute_result"
    }
   ],
   "source": [
    "s.remove(54)\n",
    "s"
   ]
  },
  {
   "cell_type": "code",
   "execution_count": 34,
   "id": "cded6949-68a0-4354-8fda-273030db9efb",
   "metadata": {},
   "outputs": [
    {
     "data": {
      "text/plain": [
       "{43, 45, 67, 78}"
      ]
     },
     "execution_count": 34,
     "metadata": {},
     "output_type": "execute_result"
    }
   ],
   "source": [
    "y = {43, 45, 67, 78}\n",
    "y"
   ]
  },
  {
   "cell_type": "code",
   "execution_count": 36,
   "id": "7ee39411-3e68-449f-ad67-9b9620f0b006",
   "metadata": {},
   "outputs": [
    {
     "data": {
      "text/plain": [
       "{20, 35, 40, 56, 70, 98}"
      ]
     },
     "execution_count": 36,
     "metadata": {},
     "output_type": "execute_result"
    }
   ],
   "source": [
    "s.difference(y)"
   ]
  },
  {
   "cell_type": "code",
   "execution_count": 38,
   "id": "2b72582e-e290-45f7-a5f9-418dfdc9931a",
   "metadata": {},
   "outputs": [
    {
     "data": {
      "text/plain": [
       "{43, 45, 67, 78}"
      ]
     },
     "execution_count": 38,
     "metadata": {},
     "output_type": "execute_result"
    }
   ],
   "source": [
    "y.difference(s)"
   ]
  },
  {
   "cell_type": "code",
   "execution_count": 40,
   "id": "94412717-022d-4355-901f-8ac9e9a11d75",
   "metadata": {},
   "outputs": [
    {
     "data": {
      "text/plain": [
       "set()"
      ]
     },
     "execution_count": 40,
     "metadata": {},
     "output_type": "execute_result"
    }
   ],
   "source": [
    "s.intersection(y)"
   ]
  },
  {
   "cell_type": "code",
   "execution_count": 42,
   "id": "e54029dc-dc02-4d65-a158-6c1268e87c87",
   "metadata": {},
   "outputs": [
    {
     "data": {
      "text/plain": [
       "set()"
      ]
     },
     "execution_count": 42,
     "metadata": {},
     "output_type": "execute_result"
    }
   ],
   "source": [
    "y.intersection(s)"
   ]
  },
  {
   "cell_type": "code",
   "execution_count": 48,
   "id": "690370c5-a5f1-4553-ace6-a57fcc8d5759",
   "metadata": {},
   "outputs": [
    {
     "data": {
      "text/plain": [
       "{20, 35, 40, 43, 45, 56, 67, 70, 78, 98}"
      ]
     },
     "execution_count": 48,
     "metadata": {},
     "output_type": "execute_result"
    }
   ],
   "source": [
    "s.symmetric_difference(y)"
   ]
  },
  {
   "cell_type": "code",
   "execution_count": 50,
   "id": "a39ee37d-f083-4a0b-a72f-13285f4fffcd",
   "metadata": {},
   "outputs": [
    {
     "data": {
      "text/plain": [
       "{20, 35, 40, 43, 45, 56, 67, 70, 78, 98}"
      ]
     },
     "execution_count": 50,
     "metadata": {},
     "output_type": "execute_result"
    }
   ],
   "source": [
    "y.symmetric_difference(s)"
   ]
  },
  {
   "cell_type": "code",
   "execution_count": 44,
   "id": "e62c5c9e-108f-455c-a490-1a0ea94076ac",
   "metadata": {},
   "outputs": [
    {
     "data": {
      "text/plain": [
       "{20, 35, 40, 43, 45, 56, 67, 70, 78, 98}"
      ]
     },
     "execution_count": 44,
     "metadata": {},
     "output_type": "execute_result"
    }
   ],
   "source": [
    "s.union(y)"
   ]
  },
  {
   "cell_type": "code",
   "execution_count": 46,
   "id": "81cf52b3-9da0-4b52-ab36-5c84aba85489",
   "metadata": {},
   "outputs": [
    {
     "data": {
      "text/plain": [
       "{20, 35, 40, 43, 45, 56, 67, 70, 78, 98}"
      ]
     },
     "execution_count": 46,
     "metadata": {},
     "output_type": "execute_result"
    }
   ],
   "source": [
    "y.union(s)"
   ]
  },
  {
   "cell_type": "code",
   "execution_count": 52,
   "id": "74d228fe-05ad-4ffe-a252-7b97ffc216b4",
   "metadata": {},
   "outputs": [
    {
     "ename": "TypeError",
     "evalue": "'set' object is not subscriptable",
     "output_type": "error",
     "traceback": [
      "\u001b[1;31m---------------------------------------------------------------------------\u001b[0m",
      "\u001b[1;31mTypeError\u001b[0m                                 Traceback (most recent call last)",
      "Cell \u001b[1;32mIn[52], line 1\u001b[0m\n\u001b[1;32m----> 1\u001b[0m s[\u001b[38;5;241m3\u001b[39m]\n",
      "\u001b[1;31mTypeError\u001b[0m: 'set' object is not subscriptable"
     ]
    }
   ],
   "source": [
    "s[3]#set dosen't allow indexing"
   ]
  },
  {
   "cell_type": "code",
   "execution_count": 72,
   "id": "6e2b61c3-e9cd-455e-a62b-11a3f239232d",
   "metadata": {},
   "outputs": [
    {
     "data": {
      "text/plain": [
       "[23, 45, 76, 89]"
      ]
     },
     "execution_count": 72,
     "metadata": {},
     "output_type": "execute_result"
    }
   ],
   "source": [
    "#conversion of datatypes is called as typecasting\n",
    "#to convert a tuple and set into list we use function list()\n",
    "#and to convert into tuple we can use tuple() funtion\n",
    "x = (23, 45, 76, 89)\n",
    "p = list(x)\n",
    "p"
   ]
  },
  {
   "cell_type": "code",
   "execution_count": 60,
   "id": "f3fb357d-237d-439d-af41-f955b3af546b",
   "metadata": {},
   "outputs": [
    {
     "data": {
      "text/plain": [
       "(23, 45, 76, 89)"
      ]
     },
     "execution_count": 60,
     "metadata": {},
     "output_type": "execute_result"
    }
   ],
   "source": [
    "q = tuple(p)\n",
    "q"
   ]
  },
  {
   "cell_type": "code",
   "execution_count": 62,
   "id": "609241a5-4585-44fd-bcc4-328cdafcacd3",
   "metadata": {},
   "outputs": [
    {
     "data": {
      "text/plain": [
       "[98, 20, 70, 54, 40, 56]"
      ]
     },
     "execution_count": 62,
     "metadata": {},
     "output_type": "execute_result"
    }
   ],
   "source": [
    "s={20, 40, 56, 70, 54, 98}\n",
    "d = list(s)\n",
    "d"
   ]
  },
  {
   "cell_type": "code",
   "execution_count": 66,
   "id": "8e52e1c6-687e-4e15-a03c-621a16d2924a",
   "metadata": {},
   "outputs": [
    {
     "data": {
      "text/plain": [
       "54"
      ]
     },
     "execution_count": 66,
     "metadata": {},
     "output_type": "execute_result"
    }
   ],
   "source": [
    "#after conversion into list we can perform indexing\n",
    "d[3]"
   ]
  },
  {
   "cell_type": "code",
   "execution_count": 70,
   "id": "70130305-a40d-44d7-af1c-78f0f2e21feb",
   "metadata": {},
   "outputs": [
    {
     "data": {
      "text/plain": [
       "(98, 20, 70, 54, 40, 56)"
      ]
     },
     "execution_count": 70,
     "metadata": {},
     "output_type": "execute_result"
    }
   ],
   "source": [
    "k = tuple(s)\n",
    "k"
   ]
  }
 ],
 "metadata": {
  "kernelspec": {
   "display_name": "Python [conda env:base] *",
   "language": "python",
   "name": "conda-base-py"
  },
  "language_info": {
   "codemirror_mode": {
    "name": "ipython",
    "version": 3
   },
   "file_extension": ".py",
   "mimetype": "text/x-python",
   "name": "python",
   "nbconvert_exporter": "python",
   "pygments_lexer": "ipython3",
   "version": "3.12.7"
  }
 },
 "nbformat": 4,
 "nbformat_minor": 5
}
